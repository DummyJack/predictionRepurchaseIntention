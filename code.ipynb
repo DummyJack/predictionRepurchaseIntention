{
 "cells": [
  {
   "cell_type": "markdown",
   "metadata": {},
   "source": [
    "資料集\n",
    "\n",
    "雲端(資料集下載): https://drive.google.com/file/d/1_rC3wId1gbdLRSexAx1IabjgJTJ8SyUF/view?usp=sharing\n",
    "\n",
    "資料集檔案太大，傳不上去 Moodle 平台"
   ]
  },
  {
   "cell_type": "code",
   "execution_count": 19,
   "metadata": {},
   "outputs": [],
   "source": [
    "import pandas as pd\n",
    "import numpy as np\n",
    "import matplotlib.pyplot as plt\n",
    "\n",
    "plt.rcParams['font.sans-serif'] = ['Microsoft JhengHei'] "
   ]
  },
  {
   "cell_type": "code",
   "execution_count": 20,
   "metadata": {},
   "outputs": [],
   "source": [
    "# 內存優化\n",
    "d_types1 = {'user_id':'int32', 'item_id':'int32', 'cat_id':'int16', 'seller_id':'int16', 'brand_id':'float32', 'time_stamp':'int16', 'action_type':'int8'}\n",
    "d_types2 = {'user_id':'int32', 'age_range':'float32', 'gender':'float32'}\n",
    "d_types3 = {'user_id':'int32', 'merchant_id':'int16', 'label':'float32'}"
   ]
  },
  {
   "cell_type": "code",
   "execution_count": 21,
   "metadata": {},
   "outputs": [],
   "source": [
    "df_train = pd.read_csv('./dataset/train_format1.csv', dtype = d_types3)\n",
    "df_test = pd.read_csv('./dataset/test_format1.csv', dtype = d_types3)\n",
    "user_info = pd.read_csv('./dataset/user_info_format1.csv', dtype = d_types2)\n",
    "user_log = pd.read_csv('./dataset/user_log_format1.csv', dtype = d_types1)"
   ]
  },
  {
   "cell_type": "code",
   "execution_count": 22,
   "metadata": {},
   "outputs": [],
   "source": [
    "# 調整數據\n",
    "user_info = user_info[:200000]\n",
    "user_log = user_log[:10000000]\n",
    "data_train = df_train[:100000]\n",
    "data_test = df_test[:100613]"
   ]
  },
  {
   "cell_type": "code",
   "execution_count": 23,
   "metadata": {},
   "outputs": [
    {
     "data": {
      "text/html": [
       "<div>\n",
       "<style scoped>\n",
       "    .dataframe tbody tr th:only-of-type {\n",
       "        vertical-align: middle;\n",
       "    }\n",
       "\n",
       "    .dataframe tbody tr th {\n",
       "        vertical-align: top;\n",
       "    }\n",
       "\n",
       "    .dataframe thead th {\n",
       "        text-align: right;\n",
       "    }\n",
       "</style>\n",
       "<table border=\"1\" class=\"dataframe\">\n",
       "  <thead>\n",
       "    <tr style=\"text-align: right;\">\n",
       "      <th></th>\n",
       "      <th>user_id</th>\n",
       "      <th>item_id</th>\n",
       "      <th>cat_id</th>\n",
       "      <th>seller_id</th>\n",
       "      <th>brand_id</th>\n",
       "      <th>time_stamp</th>\n",
       "      <th>action_type</th>\n",
       "    </tr>\n",
       "  </thead>\n",
       "  <tbody>\n",
       "    <tr>\n",
       "      <th>0</th>\n",
       "      <td>328862</td>\n",
       "      <td>323294</td>\n",
       "      <td>833</td>\n",
       "      <td>2882</td>\n",
       "      <td>2661.0</td>\n",
       "      <td>829</td>\n",
       "      <td>0</td>\n",
       "    </tr>\n",
       "    <tr>\n",
       "      <th>1</th>\n",
       "      <td>328862</td>\n",
       "      <td>844400</td>\n",
       "      <td>1271</td>\n",
       "      <td>2882</td>\n",
       "      <td>2661.0</td>\n",
       "      <td>829</td>\n",
       "      <td>0</td>\n",
       "    </tr>\n",
       "    <tr>\n",
       "      <th>2</th>\n",
       "      <td>328862</td>\n",
       "      <td>575153</td>\n",
       "      <td>1271</td>\n",
       "      <td>2882</td>\n",
       "      <td>2661.0</td>\n",
       "      <td>829</td>\n",
       "      <td>0</td>\n",
       "    </tr>\n",
       "    <tr>\n",
       "      <th>3</th>\n",
       "      <td>328862</td>\n",
       "      <td>996875</td>\n",
       "      <td>1271</td>\n",
       "      <td>2882</td>\n",
       "      <td>2661.0</td>\n",
       "      <td>829</td>\n",
       "      <td>0</td>\n",
       "    </tr>\n",
       "    <tr>\n",
       "      <th>4</th>\n",
       "      <td>328862</td>\n",
       "      <td>1086186</td>\n",
       "      <td>1271</td>\n",
       "      <td>1253</td>\n",
       "      <td>1049.0</td>\n",
       "      <td>829</td>\n",
       "      <td>0</td>\n",
       "    </tr>\n",
       "  </tbody>\n",
       "</table>\n",
       "</div>"
      ],
      "text/plain": [
       "   user_id  item_id  cat_id  seller_id  brand_id  time_stamp  action_type\n",
       "0   328862   323294     833       2882    2661.0         829            0\n",
       "1   328862   844400    1271       2882    2661.0         829            0\n",
       "2   328862   575153    1271       2882    2661.0         829            0\n",
       "3   328862   996875    1271       2882    2661.0         829            0\n",
       "4   328862  1086186    1271       1253    1049.0         829            0"
      ]
     },
     "metadata": {},
     "output_type": "display_data"
    },
    {
     "data": {
      "text/html": [
       "<div>\n",
       "<style scoped>\n",
       "    .dataframe tbody tr th:only-of-type {\n",
       "        vertical-align: middle;\n",
       "    }\n",
       "\n",
       "    .dataframe tbody tr th {\n",
       "        vertical-align: top;\n",
       "    }\n",
       "\n",
       "    .dataframe thead th {\n",
       "        text-align: right;\n",
       "    }\n",
       "</style>\n",
       "<table border=\"1\" class=\"dataframe\">\n",
       "  <thead>\n",
       "    <tr style=\"text-align: right;\">\n",
       "      <th></th>\n",
       "      <th>user_id</th>\n",
       "      <th>age_range</th>\n",
       "      <th>gender</th>\n",
       "    </tr>\n",
       "  </thead>\n",
       "  <tbody>\n",
       "    <tr>\n",
       "      <th>0</th>\n",
       "      <td>376517</td>\n",
       "      <td>6.0</td>\n",
       "      <td>1.0</td>\n",
       "    </tr>\n",
       "    <tr>\n",
       "      <th>1</th>\n",
       "      <td>234512</td>\n",
       "      <td>5.0</td>\n",
       "      <td>0.0</td>\n",
       "    </tr>\n",
       "    <tr>\n",
       "      <th>2</th>\n",
       "      <td>344532</td>\n",
       "      <td>5.0</td>\n",
       "      <td>0.0</td>\n",
       "    </tr>\n",
       "    <tr>\n",
       "      <th>3</th>\n",
       "      <td>186135</td>\n",
       "      <td>5.0</td>\n",
       "      <td>0.0</td>\n",
       "    </tr>\n",
       "    <tr>\n",
       "      <th>4</th>\n",
       "      <td>30230</td>\n",
       "      <td>5.0</td>\n",
       "      <td>0.0</td>\n",
       "    </tr>\n",
       "  </tbody>\n",
       "</table>\n",
       "</div>"
      ],
      "text/plain": [
       "   user_id  age_range  gender\n",
       "0   376517        6.0     1.0\n",
       "1   234512        5.0     0.0\n",
       "2   344532        5.0     0.0\n",
       "3   186135        5.0     0.0\n",
       "4    30230        5.0     0.0"
      ]
     },
     "metadata": {},
     "output_type": "display_data"
    },
    {
     "data": {
      "text/html": [
       "<div>\n",
       "<style scoped>\n",
       "    .dataframe tbody tr th:only-of-type {\n",
       "        vertical-align: middle;\n",
       "    }\n",
       "\n",
       "    .dataframe tbody tr th {\n",
       "        vertical-align: top;\n",
       "    }\n",
       "\n",
       "    .dataframe thead th {\n",
       "        text-align: right;\n",
       "    }\n",
       "</style>\n",
       "<table border=\"1\" class=\"dataframe\">\n",
       "  <thead>\n",
       "    <tr style=\"text-align: right;\">\n",
       "      <th></th>\n",
       "      <th>user_id</th>\n",
       "      <th>merchant_id</th>\n",
       "      <th>label</th>\n",
       "    </tr>\n",
       "  </thead>\n",
       "  <tbody>\n",
       "    <tr>\n",
       "      <th>0</th>\n",
       "      <td>34176</td>\n",
       "      <td>3906</td>\n",
       "      <td>0.0</td>\n",
       "    </tr>\n",
       "    <tr>\n",
       "      <th>1</th>\n",
       "      <td>34176</td>\n",
       "      <td>121</td>\n",
       "      <td>0.0</td>\n",
       "    </tr>\n",
       "    <tr>\n",
       "      <th>2</th>\n",
       "      <td>34176</td>\n",
       "      <td>4356</td>\n",
       "      <td>1.0</td>\n",
       "    </tr>\n",
       "    <tr>\n",
       "      <th>3</th>\n",
       "      <td>34176</td>\n",
       "      <td>2217</td>\n",
       "      <td>0.0</td>\n",
       "    </tr>\n",
       "    <tr>\n",
       "      <th>4</th>\n",
       "      <td>230784</td>\n",
       "      <td>4818</td>\n",
       "      <td>0.0</td>\n",
       "    </tr>\n",
       "  </tbody>\n",
       "</table>\n",
       "</div>"
      ],
      "text/plain": [
       "   user_id  merchant_id  label\n",
       "0    34176         3906    0.0\n",
       "1    34176          121    0.0\n",
       "2    34176         4356    1.0\n",
       "3    34176         2217    0.0\n",
       "4   230784         4818    0.0"
      ]
     },
     "metadata": {},
     "output_type": "display_data"
    },
    {
     "data": {
      "text/html": [
       "<div>\n",
       "<style scoped>\n",
       "    .dataframe tbody tr th:only-of-type {\n",
       "        vertical-align: middle;\n",
       "    }\n",
       "\n",
       "    .dataframe tbody tr th {\n",
       "        vertical-align: top;\n",
       "    }\n",
       "\n",
       "    .dataframe thead th {\n",
       "        text-align: right;\n",
       "    }\n",
       "</style>\n",
       "<table border=\"1\" class=\"dataframe\">\n",
       "  <thead>\n",
       "    <tr style=\"text-align: right;\">\n",
       "      <th></th>\n",
       "      <th>user_id</th>\n",
       "      <th>merchant_id</th>\n",
       "      <th>prob</th>\n",
       "    </tr>\n",
       "  </thead>\n",
       "  <tbody>\n",
       "    <tr>\n",
       "      <th>0</th>\n",
       "      <td>163968</td>\n",
       "      <td>4605</td>\n",
       "      <td>NaN</td>\n",
       "    </tr>\n",
       "    <tr>\n",
       "      <th>1</th>\n",
       "      <td>360576</td>\n",
       "      <td>1581</td>\n",
       "      <td>NaN</td>\n",
       "    </tr>\n",
       "    <tr>\n",
       "      <th>2</th>\n",
       "      <td>98688</td>\n",
       "      <td>1964</td>\n",
       "      <td>NaN</td>\n",
       "    </tr>\n",
       "    <tr>\n",
       "      <th>3</th>\n",
       "      <td>98688</td>\n",
       "      <td>3645</td>\n",
       "      <td>NaN</td>\n",
       "    </tr>\n",
       "    <tr>\n",
       "      <th>4</th>\n",
       "      <td>295296</td>\n",
       "      <td>3361</td>\n",
       "      <td>NaN</td>\n",
       "    </tr>\n",
       "  </tbody>\n",
       "</table>\n",
       "</div>"
      ],
      "text/plain": [
       "   user_id  merchant_id  prob\n",
       "0   163968         4605   NaN\n",
       "1   360576         1581   NaN\n",
       "2    98688         1964   NaN\n",
       "3    98688         3645   NaN\n",
       "4   295296         3361   NaN"
      ]
     },
     "metadata": {},
     "output_type": "display_data"
    }
   ],
   "source": [
    "display(user_log.head())\n",
    "display(user_info.head())\n",
    "display(df_train.head())\n",
    "display(df_test.head())"
   ]
  },
  {
   "cell_type": "markdown",
   "metadata": {},
   "source": [
    "## 資料前處理"
   ]
  },
  {
   "cell_type": "markdown",
   "metadata": {},
   "source": [
    "##### 檢查資料類型"
   ]
  },
  {
   "cell_type": "code",
   "execution_count": 24,
   "metadata": {},
   "outputs": [
    {
     "name": "stdout",
     "output_type": "stream",
     "text": [
      "<class 'pandas.core.frame.DataFrame'>\n",
      "RangeIndex: 10000000 entries, 0 to 9999999\n",
      "Data columns (total 7 columns):\n",
      " #   Column       Dtype  \n",
      "---  ------       -----  \n",
      " 0   user_id      int32  \n",
      " 1   item_id      int32  \n",
      " 2   cat_id       int16  \n",
      " 3   seller_id    int16  \n",
      " 4   brand_id     float32\n",
      " 5   time_stamp   int16  \n",
      " 6   action_type  int8   \n",
      "dtypes: float32(1), int16(3), int32(2), int8(1)\n",
      "memory usage: 181.2 MB\n"
     ]
    },
    {
     "data": {
      "text/plain": [
       "None"
      ]
     },
     "metadata": {},
     "output_type": "display_data"
    },
    {
     "name": "stdout",
     "output_type": "stream",
     "text": [
      "<class 'pandas.core.frame.DataFrame'>\n",
      "RangeIndex: 200000 entries, 0 to 199999\n",
      "Data columns (total 3 columns):\n",
      " #   Column     Non-Null Count   Dtype  \n",
      "---  ------     --------------   -----  \n",
      " 0   user_id    200000 non-null  int32  \n",
      " 1   age_range  199234 non-null  float32\n",
      " 2   gender     197640 non-null  float32\n",
      "dtypes: float32(2), int32(1)\n",
      "memory usage: 2.3 MB\n"
     ]
    },
    {
     "data": {
      "text/plain": [
       "None"
      ]
     },
     "metadata": {},
     "output_type": "display_data"
    },
    {
     "name": "stdout",
     "output_type": "stream",
     "text": [
      "<class 'pandas.core.frame.DataFrame'>\n",
      "RangeIndex: 260864 entries, 0 to 260863\n",
      "Data columns (total 3 columns):\n",
      " #   Column       Non-Null Count   Dtype  \n",
      "---  ------       --------------   -----  \n",
      " 0   user_id      260864 non-null  int32  \n",
      " 1   merchant_id  260864 non-null  int16  \n",
      " 2   label        260864 non-null  float32\n",
      "dtypes: float32(1), int16(1), int32(1)\n",
      "memory usage: 2.5 MB\n"
     ]
    },
    {
     "data": {
      "text/plain": [
       "None"
      ]
     },
     "metadata": {},
     "output_type": "display_data"
    },
    {
     "name": "stdout",
     "output_type": "stream",
     "text": [
      "<class 'pandas.core.frame.DataFrame'>\n",
      "RangeIndex: 261477 entries, 0 to 261476\n",
      "Data columns (total 3 columns):\n",
      " #   Column       Non-Null Count   Dtype  \n",
      "---  ------       --------------   -----  \n",
      " 0   user_id      261477 non-null  int32  \n",
      " 1   merchant_id  261477 non-null  int16  \n",
      " 2   prob         0 non-null       float64\n",
      "dtypes: float64(1), int16(1), int32(1)\n",
      "memory usage: 3.5 MB\n"
     ]
    },
    {
     "data": {
      "text/plain": [
       "None"
      ]
     },
     "metadata": {},
     "output_type": "display_data"
    }
   ],
   "source": [
    "display(user_log.info())\n",
    "display(user_info.info())\n",
    "display(df_train.info())\n",
    "display(df_test.info())"
   ]
  },
  {
   "cell_type": "markdown",
   "metadata": {},
   "source": [
    "##### 缺失值處理"
   ]
  },
  {
   "cell_type": "code",
   "execution_count": 25,
   "metadata": {},
   "outputs": [
    {
     "data": {
      "text/html": [
       "<div>\n",
       "<style scoped>\n",
       "    .dataframe tbody tr th:only-of-type {\n",
       "        vertical-align: middle;\n",
       "    }\n",
       "\n",
       "    .dataframe tbody tr th {\n",
       "        vertical-align: top;\n",
       "    }\n",
       "\n",
       "    .dataframe thead th {\n",
       "        text-align: right;\n",
       "    }\n",
       "</style>\n",
       "<table border=\"1\" class=\"dataframe\">\n",
       "  <thead>\n",
       "    <tr style=\"text-align: right;\">\n",
       "      <th></th>\n",
       "      <th>user_id</th>\n",
       "      <th>age_range</th>\n",
       "      <th>gender</th>\n",
       "    </tr>\n",
       "  </thead>\n",
       "  <tbody>\n",
       "    <tr>\n",
       "      <th>0</th>\n",
       "      <td>376517</td>\n",
       "      <td>6.0</td>\n",
       "      <td>1.0</td>\n",
       "    </tr>\n",
       "    <tr>\n",
       "      <th>1</th>\n",
       "      <td>234512</td>\n",
       "      <td>5.0</td>\n",
       "      <td>0.0</td>\n",
       "    </tr>\n",
       "    <tr>\n",
       "      <th>2</th>\n",
       "      <td>344532</td>\n",
       "      <td>5.0</td>\n",
       "      <td>0.0</td>\n",
       "    </tr>\n",
       "    <tr>\n",
       "      <th>3</th>\n",
       "      <td>186135</td>\n",
       "      <td>5.0</td>\n",
       "      <td>0.0</td>\n",
       "    </tr>\n",
       "    <tr>\n",
       "      <th>4</th>\n",
       "      <td>30230</td>\n",
       "      <td>5.0</td>\n",
       "      <td>0.0</td>\n",
       "    </tr>\n",
       "    <tr>\n",
       "      <th>...</th>\n",
       "      <td>...</td>\n",
       "      <td>...</td>\n",
       "      <td>...</td>\n",
       "    </tr>\n",
       "    <tr>\n",
       "      <th>132360</th>\n",
       "      <td>355774</td>\n",
       "      <td>0.0</td>\n",
       "      <td>1.0</td>\n",
       "    </tr>\n",
       "    <tr>\n",
       "      <th>132361</th>\n",
       "      <td>255504</td>\n",
       "      <td>2.0</td>\n",
       "      <td>0.0</td>\n",
       "    </tr>\n",
       "    <tr>\n",
       "      <th>132362</th>\n",
       "      <td>188928</td>\n",
       "      <td>0.0</td>\n",
       "      <td>2.0</td>\n",
       "    </tr>\n",
       "    <tr>\n",
       "      <th>132363</th>\n",
       "      <td>165645</td>\n",
       "      <td>4.0</td>\n",
       "      <td>0.0</td>\n",
       "    </tr>\n",
       "    <tr>\n",
       "      <th>132364</th>\n",
       "      <td>277379</td>\n",
       "      <td>0.0</td>\n",
       "      <td>0.0</td>\n",
       "    </tr>\n",
       "  </tbody>\n",
       "</table>\n",
       "<p>132365 rows × 3 columns</p>\n",
       "</div>"
      ],
      "text/plain": [
       "        user_id  age_range  gender\n",
       "0        376517        6.0     1.0\n",
       "1        234512        5.0     0.0\n",
       "2        344532        5.0     0.0\n",
       "3        186135        5.0     0.0\n",
       "4         30230        5.0     0.0\n",
       "...         ...        ...     ...\n",
       "132360   355774        0.0     1.0\n",
       "132361   255504        2.0     0.0\n",
       "132362   188928        0.0     2.0\n",
       "132363   165645        4.0     0.0\n",
       "132364   277379        0.0     0.0\n",
       "\n",
       "[132365 rows x 3 columns]"
      ]
     },
     "execution_count": 25,
     "metadata": {},
     "output_type": "execute_result"
    }
   ],
   "source": [
    "# NaN 當未知\n",
    "# 使用 0 替換 NaN(age_range)\n",
    "# 使用 2 替換 NaN(gender)\n",
    "\n",
    "user_info['age_range'].replace(np.nan, 0, inplace = True)\n",
    "user_info['gender'].replace(np.nan, 2, inplace = True)\n",
    "\n",
    "user_info.head(132365)"
   ]
  },
  {
   "cell_type": "markdown",
   "metadata": {},
   "source": [
    "##### 視覺化"
   ]
  },
  {
   "cell_type": "code",
   "execution_count": 26,
   "metadata": {},
   "outputs": [
    {
     "data": {
      "image/png": "[encoded data removed]",
      "text/plain": [
       "<Figure size 864x576 with 1 Axes>"
      ]
     },
     "metadata": {
      "needs_background": "light"
     },
     "output_type": "display_data"
    }
   ],
   "source": [
    "# 0:未知, 1:<18, 2:18-24, 3:25-29, 4:30-34, 5:35-39, 6:40-49, 7、8:>=50 \n",
    "fig = plt.figure(figsize = (12, 8))\n",
    "\n",
    "x = np.array(['未知', \"<18\",\"18-24\",\"25-29\",\"30-34\",\"35-39\",\"40-49\",\">=50\"])\n",
    "y = np.array([user_info[user_info['age_range'] == 0]['age_range'].count(),\n",
    "              user_info[user_info['age_range'] == 1]['age_range'].count(),\n",
    "              user_info[user_info['age_range'] == 2]['age_range'].count(),\n",
    "              user_info[user_info['age_range'] == 3]['age_range'].count(),\n",
    "              user_info[user_info['age_range'] == 4]['age_range'].count(),\n",
    "              user_info[user_info['age_range'] == 5]['age_range'].count(),\n",
    "              user_info[user_info['age_range'] == 6]['age_range'].count(),\n",
    "              user_info[user_info['age_range'] == 7]['age_range'].count() + user_info[user_info['age_range'] == 8]['age_range'].count()])\n",
    "\n",
    "plt.bar(x, y, color = 'blue')\n",
    "plt.legend(['人數'])\n",
    "plt.title('年齡分布')\n",
    "\n",
    "# 儲存圖片\n",
    "fig.savefig('./visualization/plot1.png',dpi=fig.dpi)"
   ]
  },
  {
   "cell_type": "code",
   "execution_count": 27,
   "metadata": {},
   "outputs": [
    {
     "data": {
      "image/png": "[encoded data removed]",
      "text/plain": [
       "<Figure size 864x576 with 1 Axes>"
      ]
     },
     "metadata": {
      "needs_background": "light"
     },
     "output_type": "display_data"
    }
   ],
   "source": [
    "# 0:女性 , 1:男性 , 2、'':未知\n",
    "fig = plt.figure(figsize = (12, 8))\n",
    "\n",
    "x = np.array(['女性', '男性', '未知'])\n",
    "y = np.array([user_info[user_info['gender'] == 0]['gender'].count(),\n",
    "              user_info[user_info['gender'] == 1]['gender'].count(),\n",
    "              user_info[user_info['gender'] == 2]['gender'].count()])\n",
    "\n",
    "plt.bar(x, y, color = 'red')\n",
    "plt.legend(['人數'])\n",
    "plt.title('性別分布')\n",
    "\n",
    "# 儲存圖片\n",
    "fig.savefig('./visualization/plot2.png',dpi=fig.dpi)"
   ]
  },
  {
   "cell_type": "code",
   "execution_count": 28,
   "metadata": {},
   "outputs": [
    {
     "data": {
      "image/png": "[encoded data removed]",
      "text/plain": [
       "<Figure size 864x576 with 1 Axes>"
      ]
     },
     "metadata": {
      "needs_background": "light"
     },
     "output_type": "display_data"
    }
   ],
   "source": [
    "# 0:按一下 , 1:添加到購物車 , 2:購買, 3:添加到我的最愛\n",
    "fig = plt.figure(figsize = (12, 8))\n",
    "\n",
    "x = np.array(['按一下', '添加到購物車', '購買', '添加到我的最愛'])\n",
    "y = np.array([user_log[user_log['action_type'] == 0]['action_type'].count(),\n",
    "              user_log[user_log['action_type'] == 1]['action_type'].count(),\n",
    "              user_log[user_log['action_type'] == 2]['action_type'].count(),\n",
    "              user_log[user_log['action_type'] == 3]['action_type'].count()])\n",
    "\n",
    "plt.bar(x, y, color = 'green')\n",
    "plt.legend(['人數'])\n",
    "plt.title('操作分布')\n",
    "\n",
    "# 儲存圖片\n",
    "fig.savefig('./visualization/plot3.png',dpi=fig.dpi)"
   ]
  },
  {
   "cell_type": "markdown",
   "metadata": {},
   "source": [
    "## 特徵建立"
   ]
  },
  {
   "cell_type": "markdown",
   "metadata": {},
   "source": [
    "建立特徵的參考網站: https://www.heywhale.com/mw/project/6044a21f6b48c2001529f1b5/content\n"
   ]
  },
  {
   "cell_type": "code",
   "execution_count": 29,
   "metadata": {},
   "outputs": [
    {
     "name": "stdout",
     "output_type": "stream",
     "text": [
      "<class 'pandas.core.frame.DataFrame'>\n",
      "Int64Index: 522341 entries, 0 to 261476\n",
      "Data columns (total 4 columns):\n",
      " #   Column       Non-Null Count   Dtype  \n",
      "---  ------       --------------   -----  \n",
      " 0   user_id      522341 non-null  int32  \n",
      " 1   merchant_id  522341 non-null  int16  \n",
      " 2   label        260864 non-null  float32\n",
      " 3   data         522341 non-null  object \n",
      "dtypes: float32(1), int16(1), int32(1), object(1)\n",
      "memory usage: 13.0+ MB\n"
     ]
    }
   ],
   "source": [
    "# 合併 train data 和 test data\n",
    "df_train[\"data\"] = \"train\"\n",
    "df_test[\"data\"] = \"test\"\n",
    "data = pd.concat([df_train, df_test])\n",
    "data = data.drop([\"prob\"], axis = 1)\n",
    "data.info()"
   ]
  },
  {
   "cell_type": "code",
   "execution_count": 30,
   "metadata": {},
   "outputs": [
    {
     "data": {
      "text/html": [
       "<div>\n",
       "<style scoped>\n",
       "    .dataframe tbody tr th:only-of-type {\n",
       "        vertical-align: middle;\n",
       "    }\n",
       "\n",
       "    .dataframe tbody tr th {\n",
       "        vertical-align: top;\n",
       "    }\n",
       "\n",
       "    .dataframe thead th {\n",
       "        text-align: right;\n",
       "    }\n",
       "</style>\n",
       "<table border=\"1\" class=\"dataframe\">\n",
       "  <thead>\n",
       "    <tr style=\"text-align: right;\">\n",
       "      <th></th>\n",
       "      <th>user_id</th>\n",
       "      <th>merchant_id</th>\n",
       "      <th>label</th>\n",
       "      <th>data</th>\n",
       "      <th>age_range</th>\n",
       "      <th>gender</th>\n",
       "    </tr>\n",
       "  </thead>\n",
       "  <tbody>\n",
       "    <tr>\n",
       "      <th>0</th>\n",
       "      <td>231552</td>\n",
       "      <td>3828</td>\n",
       "      <td>1.0</td>\n",
       "      <td>train</td>\n",
       "      <td>5.0</td>\n",
       "      <td>0.0</td>\n",
       "    </tr>\n",
       "    <tr>\n",
       "      <th>1</th>\n",
       "      <td>231552</td>\n",
       "      <td>2124</td>\n",
       "      <td>0.0</td>\n",
       "      <td>train</td>\n",
       "      <td>5.0</td>\n",
       "      <td>0.0</td>\n",
       "    </tr>\n",
       "    <tr>\n",
       "      <th>2</th>\n",
       "      <td>232320</td>\n",
       "      <td>1168</td>\n",
       "      <td>0.0</td>\n",
       "      <td>train</td>\n",
       "      <td>4.0</td>\n",
       "      <td>1.0</td>\n",
       "    </tr>\n",
       "    <tr>\n",
       "      <th>3</th>\n",
       "      <td>232320</td>\n",
       "      <td>4270</td>\n",
       "      <td>0.0</td>\n",
       "      <td>train</td>\n",
       "      <td>4.0</td>\n",
       "      <td>1.0</td>\n",
       "    </tr>\n",
       "    <tr>\n",
       "      <th>4</th>\n",
       "      <td>298368</td>\n",
       "      <td>2981</td>\n",
       "      <td>0.0</td>\n",
       "      <td>train</td>\n",
       "      <td>4.0</td>\n",
       "      <td>0.0</td>\n",
       "    </tr>\n",
       "  </tbody>\n",
       "</table>\n",
       "</div>"
      ],
      "text/plain": [
       "   user_id  merchant_id  label   data  age_range  gender\n",
       "0   231552         3828    1.0  train        5.0     0.0\n",
       "1   231552         2124    0.0  train        5.0     0.0\n",
       "2   232320         1168    0.0  train        4.0     1.0\n",
       "3   232320         4270    0.0  train        4.0     1.0\n",
       "4   298368         2981    0.0  train        4.0     0.0"
      ]
     },
     "execution_count": 30,
     "metadata": {},
     "output_type": "execute_result"
    }
   ],
   "source": [
    "# 統計性別和年齡\n",
    "\n",
    "# 合並\n",
    "data = pd.merge(data, user_info)\n",
    "data.head()"
   ]
  },
  {
   "cell_type": "markdown",
   "metadata": {},
   "source": [
    "##### 用戶-賣家特徵(按照 user_id, merchant_id 分組)"
   ]
  },
  {
   "cell_type": "code",
   "execution_count": 31,
   "metadata": {},
   "outputs": [
    {
     "data": {
      "text/html": [
       "<div>\n",
       "<style scoped>\n",
       "    .dataframe tbody tr th:only-of-type {\n",
       "        vertical-align: middle;\n",
       "    }\n",
       "\n",
       "    .dataframe tbody tr th {\n",
       "        vertical-align: top;\n",
       "    }\n",
       "\n",
       "    .dataframe thead th {\n",
       "        text-align: right;\n",
       "    }\n",
       "</style>\n",
       "<table border=\"1\" class=\"dataframe\">\n",
       "  <thead>\n",
       "    <tr style=\"text-align: right;\">\n",
       "      <th></th>\n",
       "      <th>user_id</th>\n",
       "      <th>merchant_id</th>\n",
       "      <th>label</th>\n",
       "      <th>data</th>\n",
       "      <th>age_range</th>\n",
       "      <th>gender</th>\n",
       "      <th>uniq_item_id</th>\n",
       "    </tr>\n",
       "  </thead>\n",
       "  <tbody>\n",
       "    <tr>\n",
       "      <th>0</th>\n",
       "      <td>231552</td>\n",
       "      <td>3828</td>\n",
       "      <td>1.0</td>\n",
       "      <td>train</td>\n",
       "      <td>5.0</td>\n",
       "      <td>0.0</td>\n",
       "      <td>48</td>\n",
       "    </tr>\n",
       "    <tr>\n",
       "      <th>1</th>\n",
       "      <td>231552</td>\n",
       "      <td>2124</td>\n",
       "      <td>0.0</td>\n",
       "      <td>train</td>\n",
       "      <td>5.0</td>\n",
       "      <td>0.0</td>\n",
       "      <td>4</td>\n",
       "    </tr>\n",
       "    <tr>\n",
       "      <th>2</th>\n",
       "      <td>298368</td>\n",
       "      <td>2981</td>\n",
       "      <td>0.0</td>\n",
       "      <td>train</td>\n",
       "      <td>4.0</td>\n",
       "      <td>0.0</td>\n",
       "      <td>2</td>\n",
       "    </tr>\n",
       "    <tr>\n",
       "      <th>3</th>\n",
       "      <td>36480</td>\n",
       "      <td>4730</td>\n",
       "      <td>0.0</td>\n",
       "      <td>train</td>\n",
       "      <td>6.0</td>\n",
       "      <td>1.0</td>\n",
       "      <td>1</td>\n",
       "    </tr>\n",
       "    <tr>\n",
       "      <th>4</th>\n",
       "      <td>105600</td>\n",
       "      <td>1487</td>\n",
       "      <td>0.0</td>\n",
       "      <td>train</td>\n",
       "      <td>6.0</td>\n",
       "      <td>1.0</td>\n",
       "      <td>8</td>\n",
       "    </tr>\n",
       "  </tbody>\n",
       "</table>\n",
       "</div>"
      ],
      "text/plain": [
       "   user_id  merchant_id  label   data  age_range  gender  uniq_item_id\n",
       "0   231552         3828    1.0  train        5.0     0.0            48\n",
       "1   231552         2124    0.0  train        5.0     0.0             4\n",
       "2   298368         2981    0.0  train        4.0     0.0             2\n",
       "3    36480         4730    0.0  train        6.0     1.0             1\n",
       "4   105600         1487    0.0  train        6.0     1.0             8"
      ]
     },
     "execution_count": 31,
     "metadata": {},
     "output_type": "execute_result"
    }
   ],
   "source": [
    "# 統計交互過的商品\n",
    "\n",
    "uniq_item_id = user_log.groupby([\"user_id\", \"seller_id\", \"item_id\"]).count().reset_index()[[\"user_id\", \"seller_id\", \"item_id\"]]\n",
    "\n",
    "uniq_item_id_count = uniq_item_id.groupby([\"user_id\", \"seller_id\"]).count().reset_index()\n",
    "\n",
    "uniq_item_id_count.rename(columns={\"seller_id\":\"merchant_id\", \"item_id\":\"uniq_item_id\"}, inplace = True)\n",
    "\n",
    "# 合併\n",
    "data = pd.merge(data, uniq_item_id_count)\n",
    "data.head()"
   ]
  },
  {
   "cell_type": "code",
   "execution_count": 32,
   "metadata": {},
   "outputs": [
    {
     "data": {
      "text/html": [
       "<div>\n",
       "<style scoped>\n",
       "    .dataframe tbody tr th:only-of-type {\n",
       "        vertical-align: middle;\n",
       "    }\n",
       "\n",
       "    .dataframe tbody tr th {\n",
       "        vertical-align: top;\n",
       "    }\n",
       "\n",
       "    .dataframe thead th {\n",
       "        text-align: right;\n",
       "    }\n",
       "</style>\n",
       "<table border=\"1\" class=\"dataframe\">\n",
       "  <thead>\n",
       "    <tr style=\"text-align: right;\">\n",
       "      <th></th>\n",
       "      <th>user_id</th>\n",
       "      <th>merchant_id</th>\n",
       "      <th>label</th>\n",
       "      <th>data</th>\n",
       "      <th>age_range</th>\n",
       "      <th>gender</th>\n",
       "      <th>uniq_item_id</th>\n",
       "      <th>total_cat_id</th>\n",
       "    </tr>\n",
       "  </thead>\n",
       "  <tbody>\n",
       "    <tr>\n",
       "      <th>0</th>\n",
       "      <td>231552</td>\n",
       "      <td>3828</td>\n",
       "      <td>1.0</td>\n",
       "      <td>train</td>\n",
       "      <td>5.0</td>\n",
       "      <td>0.0</td>\n",
       "      <td>48</td>\n",
       "      <td>15</td>\n",
       "    </tr>\n",
       "    <tr>\n",
       "      <th>1</th>\n",
       "      <td>231552</td>\n",
       "      <td>2124</td>\n",
       "      <td>0.0</td>\n",
       "      <td>train</td>\n",
       "      <td>5.0</td>\n",
       "      <td>0.0</td>\n",
       "      <td>4</td>\n",
       "      <td>1</td>\n",
       "    </tr>\n",
       "    <tr>\n",
       "      <th>2</th>\n",
       "      <td>298368</td>\n",
       "      <td>2981</td>\n",
       "      <td>0.0</td>\n",
       "      <td>train</td>\n",
       "      <td>4.0</td>\n",
       "      <td>0.0</td>\n",
       "      <td>2</td>\n",
       "      <td>1</td>\n",
       "    </tr>\n",
       "    <tr>\n",
       "      <th>3</th>\n",
       "      <td>36480</td>\n",
       "      <td>4730</td>\n",
       "      <td>0.0</td>\n",
       "      <td>train</td>\n",
       "      <td>6.0</td>\n",
       "      <td>1.0</td>\n",
       "      <td>1</td>\n",
       "      <td>1</td>\n",
       "    </tr>\n",
       "    <tr>\n",
       "      <th>4</th>\n",
       "      <td>105600</td>\n",
       "      <td>1487</td>\n",
       "      <td>0.0</td>\n",
       "      <td>train</td>\n",
       "      <td>6.0</td>\n",
       "      <td>1.0</td>\n",
       "      <td>8</td>\n",
       "      <td>1</td>\n",
       "    </tr>\n",
       "  </tbody>\n",
       "</table>\n",
       "</div>"
      ],
      "text/plain": [
       "   user_id  merchant_id  label   data  age_range  gender  uniq_item_id  \\\n",
       "0   231552         3828    1.0  train        5.0     0.0            48   \n",
       "1   231552         2124    0.0  train        5.0     0.0             4   \n",
       "2   298368         2981    0.0  train        4.0     0.0             2   \n",
       "3    36480         4730    0.0  train        6.0     1.0             1   \n",
       "4   105600         1487    0.0  train        6.0     1.0             8   \n",
       "\n",
       "   total_cat_id  \n",
       "0            15  \n",
       "1             1  \n",
       "2             1  \n",
       "3             1  \n",
       "4             1  "
      ]
     },
     "execution_count": 32,
     "metadata": {},
     "output_type": "execute_result"
    }
   ],
   "source": [
    "# 統計交互過的品類\n",
    "\n",
    "cat_id_temp = user_log.groupby([\"user_id\", \"seller_id\", \"cat_id\"]).count().reset_index()[[\"user_id\", \"seller_id\", \"cat_id\"]]\n",
    "\n",
    "cat_id_temp_count = cat_id_temp.groupby([\"user_id\", \"seller_id\"]).count().reset_index()\n",
    "\n",
    "cat_id_temp_count.rename(columns={\"seller_id\":\"merchant_id\", \"cat_id\":\"total_cat_id\"}, inplace = True)\n",
    "\n",
    "# 合併\n",
    "data = pd.merge(data, cat_id_temp_count)\n",
    "data.head()"
   ]
  },
  {
   "cell_type": "code",
   "execution_count": 33,
   "metadata": {},
   "outputs": [
    {
     "data": {
      "text/html": [
       "<div>\n",
       "<style scoped>\n",
       "    .dataframe tbody tr th:only-of-type {\n",
       "        vertical-align: middle;\n",
       "    }\n",
       "\n",
       "    .dataframe tbody tr th {\n",
       "        vertical-align: top;\n",
       "    }\n",
       "\n",
       "    .dataframe thead th {\n",
       "        text-align: right;\n",
       "    }\n",
       "</style>\n",
       "<table border=\"1\" class=\"dataframe\">\n",
       "  <thead>\n",
       "    <tr style=\"text-align: right;\">\n",
       "      <th></th>\n",
       "      <th>user_id</th>\n",
       "      <th>merchant_id</th>\n",
       "      <th>label</th>\n",
       "      <th>data</th>\n",
       "      <th>age_range</th>\n",
       "      <th>gender</th>\n",
       "      <th>uniq_item_id</th>\n",
       "      <th>total_cat_id</th>\n",
       "      <th>total_time_temp</th>\n",
       "    </tr>\n",
       "  </thead>\n",
       "  <tbody>\n",
       "    <tr>\n",
       "      <th>0</th>\n",
       "      <td>231552</td>\n",
       "      <td>3828</td>\n",
       "      <td>1.0</td>\n",
       "      <td>train</td>\n",
       "      <td>5.0</td>\n",
       "      <td>0.0</td>\n",
       "      <td>48</td>\n",
       "      <td>15</td>\n",
       "      <td>3</td>\n",
       "    </tr>\n",
       "    <tr>\n",
       "      <th>1</th>\n",
       "      <td>231552</td>\n",
       "      <td>2124</td>\n",
       "      <td>0.0</td>\n",
       "      <td>train</td>\n",
       "      <td>5.0</td>\n",
       "      <td>0.0</td>\n",
       "      <td>4</td>\n",
       "      <td>1</td>\n",
       "      <td>1</td>\n",
       "    </tr>\n",
       "    <tr>\n",
       "      <th>2</th>\n",
       "      <td>298368</td>\n",
       "      <td>2981</td>\n",
       "      <td>0.0</td>\n",
       "      <td>train</td>\n",
       "      <td>4.0</td>\n",
       "      <td>0.0</td>\n",
       "      <td>2</td>\n",
       "      <td>1</td>\n",
       "      <td>3</td>\n",
       "    </tr>\n",
       "    <tr>\n",
       "      <th>3</th>\n",
       "      <td>36480</td>\n",
       "      <td>4730</td>\n",
       "      <td>0.0</td>\n",
       "      <td>train</td>\n",
       "      <td>6.0</td>\n",
       "      <td>1.0</td>\n",
       "      <td>1</td>\n",
       "      <td>1</td>\n",
       "      <td>1</td>\n",
       "    </tr>\n",
       "    <tr>\n",
       "      <th>4</th>\n",
       "      <td>105600</td>\n",
       "      <td>1487</td>\n",
       "      <td>0.0</td>\n",
       "      <td>train</td>\n",
       "      <td>6.0</td>\n",
       "      <td>1.0</td>\n",
       "      <td>8</td>\n",
       "      <td>1</td>\n",
       "      <td>3</td>\n",
       "    </tr>\n",
       "  </tbody>\n",
       "</table>\n",
       "</div>"
      ],
      "text/plain": [
       "   user_id  merchant_id  label   data  age_range  gender  uniq_item_id  \\\n",
       "0   231552         3828    1.0  train        5.0     0.0            48   \n",
       "1   231552         2124    0.0  train        5.0     0.0             4   \n",
       "2   298368         2981    0.0  train        4.0     0.0             2   \n",
       "3    36480         4730    0.0  train        6.0     1.0             1   \n",
       "4   105600         1487    0.0  train        6.0     1.0             8   \n",
       "\n",
       "   total_cat_id  total_time_temp  \n",
       "0            15                3  \n",
       "1             1                1  \n",
       "2             1                3  \n",
       "3             1                1  \n",
       "4             1                3  "
      ]
     },
     "execution_count": 33,
     "metadata": {},
     "output_type": "execute_result"
    }
   ],
   "source": [
    "# 統計交互天數\n",
    "\n",
    "time_temp = user_log.groupby([\"user_id\", \"seller_id\", \"time_stamp\"]).count().reset_index()[[\"user_id\", \"seller_id\", \"time_stamp\"]]\n",
    "\n",
    "time_temp_count = time_temp.groupby([\"user_id\", \"seller_id\"]).count().reset_index()\n",
    "\n",
    "time_temp_count.rename(columns={\"seller_id\":\"merchant_id\", \"time_stamp\":\"total_time_temp\"}, inplace = True)\n",
    "\n",
    "# 合併\n",
    "data = pd.merge(data, time_temp_count)\n",
    "data.head()"
   ]
  },
  {
   "cell_type": "code",
   "execution_count": 34,
   "metadata": {},
   "outputs": [
    {
     "data": {
      "text/html": [
       "<div>\n",
       "<style scoped>\n",
       "    .dataframe tbody tr th:only-of-type {\n",
       "        vertical-align: middle;\n",
       "    }\n",
       "\n",
       "    .dataframe tbody tr th {\n",
       "        vertical-align: top;\n",
       "    }\n",
       "\n",
       "    .dataframe thead th {\n",
       "        text-align: right;\n",
       "    }\n",
       "</style>\n",
       "<table border=\"1\" class=\"dataframe\">\n",
       "  <thead>\n",
       "    <tr style=\"text-align: right;\">\n",
       "      <th></th>\n",
       "      <th>user_id</th>\n",
       "      <th>merchant_id</th>\n",
       "      <th>label</th>\n",
       "      <th>data</th>\n",
       "      <th>age_range</th>\n",
       "      <th>gender</th>\n",
       "      <th>uniq_item_id</th>\n",
       "      <th>total_cat_id</th>\n",
       "      <th>total_time_temp</th>\n",
       "      <th>clicks</th>\n",
       "      <th>shopping_cart</th>\n",
       "      <th>purchases</th>\n",
       "      <th>favourites</th>\n",
       "    </tr>\n",
       "  </thead>\n",
       "  <tbody>\n",
       "    <tr>\n",
       "      <th>0</th>\n",
       "      <td>231552</td>\n",
       "      <td>3828</td>\n",
       "      <td>1.0</td>\n",
       "      <td>train</td>\n",
       "      <td>5.0</td>\n",
       "      <td>0.0</td>\n",
       "      <td>48</td>\n",
       "      <td>15</td>\n",
       "      <td>3</td>\n",
       "      <td>78</td>\n",
       "      <td>0</td>\n",
       "      <td>5</td>\n",
       "      <td>0</td>\n",
       "    </tr>\n",
       "    <tr>\n",
       "      <th>1</th>\n",
       "      <td>231552</td>\n",
       "      <td>2124</td>\n",
       "      <td>0.0</td>\n",
       "      <td>train</td>\n",
       "      <td>5.0</td>\n",
       "      <td>0.0</td>\n",
       "      <td>4</td>\n",
       "      <td>1</td>\n",
       "      <td>1</td>\n",
       "      <td>6</td>\n",
       "      <td>0</td>\n",
       "      <td>1</td>\n",
       "      <td>0</td>\n",
       "    </tr>\n",
       "    <tr>\n",
       "      <th>2</th>\n",
       "      <td>298368</td>\n",
       "      <td>2981</td>\n",
       "      <td>0.0</td>\n",
       "      <td>train</td>\n",
       "      <td>4.0</td>\n",
       "      <td>0.0</td>\n",
       "      <td>2</td>\n",
       "      <td>1</td>\n",
       "      <td>3</td>\n",
       "      <td>4</td>\n",
       "      <td>0</td>\n",
       "      <td>1</td>\n",
       "      <td>0</td>\n",
       "    </tr>\n",
       "    <tr>\n",
       "      <th>3</th>\n",
       "      <td>36480</td>\n",
       "      <td>4730</td>\n",
       "      <td>0.0</td>\n",
       "      <td>train</td>\n",
       "      <td>6.0</td>\n",
       "      <td>1.0</td>\n",
       "      <td>1</td>\n",
       "      <td>1</td>\n",
       "      <td>1</td>\n",
       "      <td>2</td>\n",
       "      <td>0</td>\n",
       "      <td>1</td>\n",
       "      <td>0</td>\n",
       "    </tr>\n",
       "    <tr>\n",
       "      <th>4</th>\n",
       "      <td>105600</td>\n",
       "      <td>1487</td>\n",
       "      <td>0.0</td>\n",
       "      <td>train</td>\n",
       "      <td>6.0</td>\n",
       "      <td>1.0</td>\n",
       "      <td>8</td>\n",
       "      <td>1</td>\n",
       "      <td>3</td>\n",
       "      <td>20</td>\n",
       "      <td>0</td>\n",
       "      <td>1</td>\n",
       "      <td>0</td>\n",
       "    </tr>\n",
       "  </tbody>\n",
       "</table>\n",
       "</div>"
      ],
      "text/plain": [
       "   user_id  merchant_id  label   data  age_range  gender  uniq_item_id  \\\n",
       "0   231552         3828    1.0  train        5.0     0.0            48   \n",
       "1   231552         2124    0.0  train        5.0     0.0             4   \n",
       "2   298368         2981    0.0  train        4.0     0.0             2   \n",
       "3    36480         4730    0.0  train        6.0     1.0             1   \n",
       "4   105600         1487    0.0  train        6.0     1.0             8   \n",
       "\n",
       "   total_cat_id  total_time_temp  clicks  shopping_cart  purchases  favourites  \n",
       "0            15                3      78              0          5           0  \n",
       "1             1                1       6              0          1           0  \n",
       "2             1                3       4              0          1           0  \n",
       "3             1                1       2              0          1           0  \n",
       "4             1                3      20              0          1           0  "
      ]
     },
     "execution_count": 34,
     "metadata": {},
     "output_type": "execute_result"
    }
   ],
   "source": [
    "# 統計點擊、添加購物車、購買、添加到我的最愛的操作次數\n",
    "\n",
    "click_temp = user_log.groupby([\"user_id\", \"seller_id\", \"action_type\"])[\"item_id\"].count().reset_index()\n",
    "\n",
    "click_temp.rename(columns={\"seller_id\":\"merchant_id\", \"item_id\":\"times\"}, inplace = True)\n",
    "\n",
    "click_temp[\"clicks\"] = click_temp[\"action_type\"] == 0\n",
    "\n",
    "click_temp[\"clicks\"] = click_temp[\"clicks\"] * click_temp[\"times\"]\n",
    "\n",
    "click_temp[\"shopping_cart\"] = click_temp[\"action_type\"] == 1\n",
    "click_temp[\"shopping_cart\"] = click_temp[\"shopping_cart\"] * click_temp[\"times\"]\n",
    "\n",
    "click_temp[\"purchases\"] = click_temp[\"action_type\"] == 2\n",
    "click_temp[\"purchases\"] = click_temp[\"purchases\"] * click_temp[\"times\"]\n",
    "\n",
    "click_temp[\"favourites\"] = click_temp[\"action_type\"] == 3\n",
    "click_temp[\"favourites\"] = click_temp[\"favourites\"] * click_temp[\"times\"]\n",
    "\n",
    "features = click_temp.groupby([\"user_id\", \"merchant_id\"]).sum().reset_index()\n",
    "\n",
    "features = features.drop([\"action_type\", \"times\"], axis = 1)\n",
    "\n",
    "# 合併\n",
    "data = pd.merge(data, features)\n",
    "data.head()"
   ]
  },
  {
   "cell_type": "code",
   "execution_count": 35,
   "metadata": {},
   "outputs": [
    {
     "data": {
      "text/html": [
       "<div>\n",
       "<style scoped>\n",
       "    .dataframe tbody tr th:only-of-type {\n",
       "        vertical-align: middle;\n",
       "    }\n",
       "\n",
       "    .dataframe tbody tr th {\n",
       "        vertical-align: top;\n",
       "    }\n",
       "\n",
       "    .dataframe thead th {\n",
       "        text-align: right;\n",
       "    }\n",
       "</style>\n",
       "<table border=\"1\" class=\"dataframe\">\n",
       "  <thead>\n",
       "    <tr style=\"text-align: right;\">\n",
       "      <th></th>\n",
       "      <th>user_id</th>\n",
       "      <th>merchant_id</th>\n",
       "      <th>label</th>\n",
       "      <th>data</th>\n",
       "      <th>age_range</th>\n",
       "      <th>gender</th>\n",
       "      <th>uniq_item_id</th>\n",
       "      <th>total_cat_id</th>\n",
       "      <th>total_time_temp</th>\n",
       "      <th>clicks</th>\n",
       "      <th>shopping_cart</th>\n",
       "      <th>purchases</th>\n",
       "      <th>favourites</th>\n",
       "      <th>purchases_ctr</th>\n",
       "    </tr>\n",
       "  </thead>\n",
       "  <tbody>\n",
       "    <tr>\n",
       "      <th>0</th>\n",
       "      <td>231552</td>\n",
       "      <td>3828</td>\n",
       "      <td>1.0</td>\n",
       "      <td>train</td>\n",
       "      <td>5.0</td>\n",
       "      <td>0.0</td>\n",
       "      <td>48</td>\n",
       "      <td>15</td>\n",
       "      <td>3</td>\n",
       "      <td>78</td>\n",
       "      <td>0</td>\n",
       "      <td>5</td>\n",
       "      <td>0</td>\n",
       "      <td>0.064103</td>\n",
       "    </tr>\n",
       "    <tr>\n",
       "      <th>1</th>\n",
       "      <td>231552</td>\n",
       "      <td>2124</td>\n",
       "      <td>0.0</td>\n",
       "      <td>train</td>\n",
       "      <td>5.0</td>\n",
       "      <td>0.0</td>\n",
       "      <td>4</td>\n",
       "      <td>1</td>\n",
       "      <td>1</td>\n",
       "      <td>6</td>\n",
       "      <td>0</td>\n",
       "      <td>1</td>\n",
       "      <td>0</td>\n",
       "      <td>0.166667</td>\n",
       "    </tr>\n",
       "    <tr>\n",
       "      <th>2</th>\n",
       "      <td>298368</td>\n",
       "      <td>2981</td>\n",
       "      <td>0.0</td>\n",
       "      <td>train</td>\n",
       "      <td>4.0</td>\n",
       "      <td>0.0</td>\n",
       "      <td>2</td>\n",
       "      <td>1</td>\n",
       "      <td>3</td>\n",
       "      <td>4</td>\n",
       "      <td>0</td>\n",
       "      <td>1</td>\n",
       "      <td>0</td>\n",
       "      <td>0.250000</td>\n",
       "    </tr>\n",
       "    <tr>\n",
       "      <th>3</th>\n",
       "      <td>36480</td>\n",
       "      <td>4730</td>\n",
       "      <td>0.0</td>\n",
       "      <td>train</td>\n",
       "      <td>6.0</td>\n",
       "      <td>1.0</td>\n",
       "      <td>1</td>\n",
       "      <td>1</td>\n",
       "      <td>1</td>\n",
       "      <td>2</td>\n",
       "      <td>0</td>\n",
       "      <td>1</td>\n",
       "      <td>0</td>\n",
       "      <td>0.500000</td>\n",
       "    </tr>\n",
       "    <tr>\n",
       "      <th>4</th>\n",
       "      <td>105600</td>\n",
       "      <td>1487</td>\n",
       "      <td>0.0</td>\n",
       "      <td>train</td>\n",
       "      <td>6.0</td>\n",
       "      <td>1.0</td>\n",
       "      <td>8</td>\n",
       "      <td>1</td>\n",
       "      <td>3</td>\n",
       "      <td>20</td>\n",
       "      <td>0</td>\n",
       "      <td>1</td>\n",
       "      <td>0</td>\n",
       "      <td>0.050000</td>\n",
       "    </tr>\n",
       "  </tbody>\n",
       "</table>\n",
       "</div>"
      ],
      "text/plain": [
       "   user_id  merchant_id  label   data  age_range  gender  uniq_item_id  \\\n",
       "0   231552         3828    1.0  train        5.0     0.0            48   \n",
       "1   231552         2124    0.0  train        5.0     0.0             4   \n",
       "2   298368         2981    0.0  train        4.0     0.0             2   \n",
       "3    36480         4730    0.0  train        6.0     1.0             1   \n",
       "4   105600         1487    0.0  train        6.0     1.0             8   \n",
       "\n",
       "   total_cat_id  total_time_temp  clicks  shopping_cart  purchases  \\\n",
       "0            15                3      78              0          5   \n",
       "1             1                1       6              0          1   \n",
       "2             1                3       4              0          1   \n",
       "3             1                1       2              0          1   \n",
       "4             1                3      20              0          1   \n",
       "\n",
       "   favourites  purchases_ctr  \n",
       "0           0       0.064103  \n",
       "1           0       0.166667  \n",
       "2           0       0.250000  \n",
       "3           0       0.500000  \n",
       "4           0       0.050000  "
      ]
     },
     "execution_count": 35,
     "metadata": {},
     "output_type": "execute_result"
    }
   ],
   "source": [
    "# 購買點擊率\n",
    "data[\"purchases_ctr\"] = data[\"purchases\"] / data[\"clicks\"]\n",
    "data.head()"
   ]
  },
  {
   "cell_type": "code",
   "execution_count": 45,
   "metadata": {},
   "outputs": [],
   "source": [
    "# 儲存提取好的特徵\n",
    "data.to_csv(\"./dataset/features.csv\", index = False)"
   ]
  },
  {
   "cell_type": "markdown",
   "metadata": {},
   "source": [
    "## 預測建模"
   ]
  },
  {
   "cell_type": "code",
   "execution_count": 60,
   "metadata": {},
   "outputs": [],
   "source": [
    "new_data = pd.read_csv('./dataset/features.csv')"
   ]
  },
  {
   "cell_type": "markdown",
   "metadata": {},
   "source": [
    "### 預處理"
   ]
  },
  {
   "cell_type": "code",
   "execution_count": 61,
   "metadata": {},
   "outputs": [
    {
     "name": "stdout",
     "output_type": "stream",
     "text": [
      "<class 'pandas.core.frame.DataFrame'>\n",
      "RangeIndex: 47511 entries, 0 to 47510\n",
      "Data columns (total 14 columns):\n",
      " #   Column           Non-Null Count  Dtype  \n",
      "---  ------           --------------  -----  \n",
      " 0   user_id          47511 non-null  int32  \n",
      " 1   merchant_id      47511 non-null  int16  \n",
      " 2   label            23687 non-null  float32\n",
      " 3   data             47511 non-null  object \n",
      " 4   age_range        47511 non-null  float32\n",
      " 5   gender           47511 non-null  float32\n",
      " 6   uniq_item_id     47511 non-null  int16  \n",
      " 7   total_cat_id     47511 non-null  int8   \n",
      " 8   total_time_temp  47511 non-null  int8   \n",
      " 9   clicks           47511 non-null  int16  \n",
      " 10  shopping_cart    47511 non-null  int8   \n",
      " 11  purchases        47511 non-null  int8   \n",
      " 12  favourites       47511 non-null  int8   \n",
      " 13  purchases_ctr    47511 non-null  float32\n",
      "dtypes: float32(4), int16(3), int32(1), int8(5), object(1)\n",
      "memory usage: 1.8+ MB\n"
     ]
    }
   ],
   "source": [
    "# 壓縮資料\n",
    "fcols = new_data.select_dtypes('float').columns\n",
    "icols = new_data.select_dtypes('integer').columns\n",
    "new_data[fcols] = new_data[fcols].apply(pd.to_numeric, downcast='float')\n",
    "new_data[icols] = new_data[icols].apply(pd.to_numeric, downcast='integer')\n",
    "\n",
    "new_data.info()"
   ]
  },
  {
   "cell_type": "code",
   "execution_count": 62,
   "metadata": {},
   "outputs": [],
   "source": [
    "# 分成訓練集和測試集\n",
    "train = new_data[new_data[\"data\"] == \"train\"]\n",
    "test = new_data[new_data[\"data\"] == \"test\"].drop([\"data\", \"label\"], axis = 1)"
   ]
  },
  {
   "cell_type": "code",
   "execution_count": 63,
   "metadata": {},
   "outputs": [],
   "source": [
    "# 預測的測試集\n",
    "pre_test = test.drop(['user_id', 'merchant_id'], axis = 1)\n",
    "\n",
    "# 無限值替換成0\n",
    "pre_test.replace([np.inf, -np.inf], 0, inplace = True)"
   ]
  },
  {
   "cell_type": "code",
   "execution_count": 64,
   "metadata": {},
   "outputs": [],
   "source": [
    "X, y = train.drop([\"user_id\", \"merchant_id\", \"label\", 'data'], axis = 1), train[\"label\"]\n",
    "\n",
    "# 無限值替換成0\n",
    "X.replace([np.inf, -np.inf], 0, inplace = True)"
   ]
  },
  {
   "cell_type": "code",
   "execution_count": 65,
   "metadata": {},
   "outputs": [],
   "source": [
    "# 分成訓練集和驗證集\n",
    "from sklearn.model_selection import train_test_split\n",
    "\n",
    "X_train, X_valid, y_train, y_valid = train_test_split(X, y, test_size = 0.2)"
   ]
  },
  {
   "cell_type": "code",
   "execution_count": 99,
   "metadata": {},
   "outputs": [
    {
     "name": "stdout",
     "output_type": "stream",
     "text": [
      "訓練集正樣本比例:  0.06406670808792114\n",
      "驗證集正樣本比例:  0.06585057079792023\n"
     ]
    }
   ],
   "source": [
    "# 正樣本比例\n",
    "print(\"訓練集正樣本比例: \", y_train.mean())\n",
    "print(\"驗證集正樣本比例: \", y_valid.mean())"
   ]
  },
  {
   "cell_type": "markdown",
   "metadata": {},
   "source": [
    "### 模型"
   ]
  },
  {
   "cell_type": "code",
   "execution_count": 67,
   "metadata": {},
   "outputs": [],
   "source": [
    "from sklearn.metrics import roc_auc_score"
   ]
  },
  {
   "cell_type": "markdown",
   "metadata": {},
   "source": [
    "##### 隨機森林(RandomForest)"
   ]
  },
  {
   "cell_type": "code",
   "execution_count": 68,
   "metadata": {},
   "outputs": [],
   "source": [
    "from sklearn.ensemble import RandomForestClassifier"
   ]
  },
  {
   "cell_type": "code",
   "execution_count": 69,
   "metadata": {},
   "outputs": [
    {
     "data": {
      "text/plain": [
       "RandomForestClassifier()"
      ]
     },
     "execution_count": 69,
     "metadata": {},
     "output_type": "execute_result"
    }
   ],
   "source": [
    "rf = RandomForestClassifier()\n",
    "rf.fit(X_train, y_train)"
   ]
  },
  {
   "cell_type": "code",
   "execution_count": 70,
   "metadata": {},
   "outputs": [
    {
     "name": "stdout",
     "output_type": "stream",
     "text": [
      "accuracy:  0.9267623469818489\n",
      "roc_auccuracy:  0.5800376852398994\n"
     ]
    }
   ],
   "source": [
    "print('accuracy: ', rf.score(X_valid, y_valid))\n",
    "print('roc_auccuracy: ', roc_auc_score(y_valid, rf.predict_proba(X_valid)[:, 1]))"
   ]
  },
  {
   "cell_type": "code",
   "execution_count": 71,
   "metadata": {},
   "outputs": [
    {
     "name": "stdout",
     "output_type": "stream",
     "text": [
      "accuracy:  0.9341494301392993\n",
      "roc_auccuracy:  0.6250695192742188\n"
     ]
    }
   ],
   "source": [
    "# 最佳參數建立模型(參考 找出最佳模型參數.ipynb)\n",
    "\n",
    "best_rf = RandomForestClassifier(max_depth = 5, min_samples_leaf = 50, min_samples_split = 2, n_estimators = 50)\n",
    "best_rf.fit(X_train, y_train)\n",
    "\n",
    "print('accuracy: ', best_rf.score(X_valid, y_valid))\n",
    "print('roc_auccuracy: ', roc_auc_score(y_valid, best_rf.predict_proba(X_valid)[:, 1]))"
   ]
  },
  {
   "cell_type": "code",
   "execution_count": 72,
   "metadata": {},
   "outputs": [
    {
     "data": {
      "text/plain": [
       "<AxesSubplot:>"
      ]
     },
     "execution_count": 72,
     "metadata": {},
     "output_type": "execute_result"
    },
    {
     "data": {
      "image/png": "[encoded data removed]",
      "text/plain": [
       "<Figure size 432x288 with 1 Axes>"
      ]
     },
     "metadata": {
      "needs_background": "light"
     },
     "output_type": "display_data"
    }
   ],
   "source": [
    "# 前十名特徵\n",
    "features = pd.Series(best_rf.feature_importances_, index = X_train.columns).sort_values()\n",
    "features[-9:].plot.barh()"
   ]
  },
  {
   "cell_type": "code",
   "execution_count": 73,
   "metadata": {},
   "outputs": [
    {
     "name": "stdout",
     "output_type": "stream",
     "text": [
      "[0.14018466 0.03905933 0.04300034 ... 0.05981523 0.10843867 0.04628423]\n"
     ]
    }
   ],
   "source": [
    "# 預測\n",
    "rf_predict_proba = best_rf.predict_proba(pre_test)\n",
    "print(rf_predict_proba[:, 1])"
   ]
  },
  {
   "cell_type": "markdown",
   "metadata": {},
   "source": [
    "##### 邏輯迴歸(LogisticRegression)"
   ]
  },
  {
   "cell_type": "code",
   "execution_count": 74,
   "metadata": {},
   "outputs": [],
   "source": [
    "from sklearn.linear_model import LogisticRegression"
   ]
  },
  {
   "cell_type": "code",
   "execution_count": 75,
   "metadata": {},
   "outputs": [
    {
     "name": "stderr",
     "output_type": "stream",
     "text": [
      "c:\\Users\\s3895\\Anaconda3\\lib\\site-packages\\sklearn\\linear_model\\_logistic.py:763: ConvergenceWarning: lbfgs failed to converge (status=1):\n",
      "STOP: TOTAL NO. of ITERATIONS REACHED LIMIT.\n",
      "\n",
      "Increase the number of iterations (max_iter) or scale the data as shown in:\n",
      "    https://scikit-learn.org/stable/modules/preprocessing.html\n",
      "Please also refer to the documentation for alternative solver options:\n",
      "    https://scikit-learn.org/stable/modules/linear_model.html#logistic-regression\n",
      "  n_iter_i = _check_optimize_result(\n"
     ]
    },
    {
     "data": {
      "text/plain": [
       "LogisticRegression()"
      ]
     },
     "execution_count": 75,
     "metadata": {},
     "output_type": "execute_result"
    }
   ],
   "source": [
    "lg =  LogisticRegression()\n",
    "lg.fit(X_train, y_train)"
   ]
  },
  {
   "cell_type": "code",
   "execution_count": 76,
   "metadata": {},
   "outputs": [
    {
     "name": "stdout",
     "output_type": "stream",
     "text": [
      "accuracy:  0.933938370620515\n",
      "roc_auccuracy:  0.6291950537036394\n"
     ]
    }
   ],
   "source": [
    "print('accuracy: ', lg.score(X_valid, y_valid))\n",
    "print('roc_auccuracy: ', roc_auc_score(y_valid, lg.predict_proba(X_valid)[:, 1]))"
   ]
  },
  {
   "cell_type": "code",
   "execution_count": 77,
   "metadata": {},
   "outputs": [
    {
     "name": "stdout",
     "output_type": "stream",
     "text": [
      "accuracy:  0.933938370620515\n",
      "roc_auccuracy:  0.6310184863336694\n"
     ]
    }
   ],
   "source": [
    "# 最佳參數建立模型(參考 找出最佳模型參數.ipynb)\n",
    "\n",
    "best_lg =  LogisticRegression(C = 0.1, penalty = 'l1', solver = 'liblinear')\n",
    "best_lg.fit(X_train, y_train)\n",
    "\n",
    "print('accuracy: ', best_lg.score(X_valid, y_valid))\n",
    "print('roc_auccuracy: ', roc_auc_score(y_valid, best_lg.predict_proba(X_valid)[:, 1]))"
   ]
  },
  {
   "cell_type": "code",
   "execution_count": 78,
   "metadata": {},
   "outputs": [
    {
     "name": "stdout",
     "output_type": "stream",
     "text": [
      "[0.106764   0.04854479 0.04782225 ... 0.05420906 0.08360119 0.05397805]\n"
     ]
    }
   ],
   "source": [
    "# 預測\n",
    "lg_predict_proba = best_lg.predict_proba(pre_test)\n",
    "print(lg_predict_proba[:, 1])"
   ]
  },
  {
   "cell_type": "markdown",
   "metadata": {},
   "source": [
    "##### XGBoost"
   ]
  },
  {
   "cell_type": "code",
   "execution_count": 79,
   "metadata": {},
   "outputs": [],
   "source": [
    "from xgboost import XGBClassifier"
   ]
  },
  {
   "cell_type": "code",
   "execution_count": 80,
   "metadata": {},
   "outputs": [
    {
     "data": {
      "text/plain": [
       "XGBClassifier(base_score=0.5, booster='gbtree', callbacks=None,\n",
       "              colsample_bylevel=1, colsample_bynode=1, colsample_bytree=1,\n",
       "              early_stopping_rounds=None, enable_categorical=False,\n",
       "              eval_metric=None, gamma=0, gpu_id=-1, grow_policy='depthwise',\n",
       "              importance_type=None, interaction_constraints='',\n",
       "              learning_rate=0.300000012, max_bin=256, max_cat_to_onehot=4,\n",
       "              max_delta_step=0, max_depth=6, max_leaves=0, min_child_weight=1,\n",
       "              missing=nan, monotone_constraints='()', n_estimators=100,\n",
       "              n_jobs=0, num_parallel_tree=1, predictor='auto', random_state=0,\n",
       "              reg_alpha=0, reg_lambda=1, ...)"
      ]
     },
     "execution_count": 80,
     "metadata": {},
     "output_type": "execute_result"
    }
   ],
   "source": [
    "xgc = XGBClassifier()\n",
    "xgc.fit(X_train, y_train)"
   ]
  },
  {
   "cell_type": "code",
   "execution_count": 81,
   "metadata": {},
   "outputs": [
    {
     "name": "stdout",
     "output_type": "stream",
     "text": [
      "accuracy:  0.931827775432672\n",
      "roc_auccuracy:  0.5658930474932509\n"
     ]
    }
   ],
   "source": [
    "print('accuracy: ', xgc.score(X_valid, y_valid))\n",
    "print('roc_auccuracy: ', roc_auc_score(y_valid, xgc.predict_proba(X_valid)[:, 1]))"
   ]
  },
  {
   "cell_type": "code",
   "execution_count": 82,
   "metadata": {},
   "outputs": [
    {
     "name": "stdout",
     "output_type": "stream",
     "text": [
      "accuracy:  0.9341494301392993\n",
      "roc_auccuracy:  0.6351060024100015\n"
     ]
    }
   ],
   "source": [
    "# 最佳參數建立模型(參考 找出最佳模型參數.ipynb)\n",
    "\n",
    "best_xgc = XGBClassifier(eta = 0.1, eval_metric = 'auc', gamma = 1, max_depth = 1, min_child_weight = 10, objective = 'binary:logistic', subsample = 0.5)\n",
    "best_xgc.fit(X_train, y_train)\n",
    "\n",
    "print('accuracy: ', best_xgc.score(X_valid, y_valid))\n",
    "print('roc_auccuracy: ', roc_auc_score(y_valid, best_xgc.predict_proba(X_valid)[:, 1]))"
   ]
  },
  {
   "cell_type": "code",
   "execution_count": 83,
   "metadata": {},
   "outputs": [
    {
     "data": {
      "text/plain": [
       "<AxesSubplot:>"
      ]
     },
     "execution_count": 83,
     "metadata": {},
     "output_type": "execute_result"
    },
    {
     "data": {
      "image/png": "[encoded data removed]",
      "text/plain": [
       "<Figure size 432x288 with 1 Axes>"
      ]
     },
     "metadata": {
      "needs_background": "light"
     },
     "output_type": "display_data"
    }
   ],
   "source": [
    "# 前十名特徵\n",
    "features = pd.Series(best_xgc.feature_importances_, index = X_train.columns).sort_values()\n",
    "features[-9:].plot.barh()"
   ]
  },
  {
   "cell_type": "code",
   "execution_count": 84,
   "metadata": {},
   "outputs": [
    {
     "name": "stdout",
     "output_type": "stream",
     "text": [
      "[0.13956194 0.04013466 0.04306442 ... 0.05355697 0.11596434 0.04489125]\n"
     ]
    }
   ],
   "source": [
    "# 預測\n",
    "xgc_predict_proba = best_xgc.predict_proba(pre_test)\n",
    "print(xgc_predict_proba[:, 1])"
   ]
  },
  {
   "cell_type": "markdown",
   "metadata": {},
   "source": [
    "##### LightGBM"
   ]
  },
  {
   "cell_type": "code",
   "execution_count": 85,
   "metadata": {},
   "outputs": [],
   "source": [
    "from lightgbm import LGBMClassifier"
   ]
  },
  {
   "cell_type": "code",
   "execution_count": 86,
   "metadata": {},
   "outputs": [
    {
     "data": {
      "text/plain": [
       "LGBMClassifier()"
      ]
     },
     "execution_count": 86,
     "metadata": {},
     "output_type": "execute_result"
    }
   ],
   "source": [
    "lgbm = LGBMClassifier()\n",
    "lgbm.fit(X_train, y_train)"
   ]
  },
  {
   "cell_type": "code",
   "execution_count": 87,
   "metadata": {},
   "outputs": [
    {
     "name": "stdout",
     "output_type": "stream",
     "text": [
      "accuracy:  0.9333051920641621\n",
      "roc_auccuracy:  0.6035761149153602\n"
     ]
    }
   ],
   "source": [
    "print('accuracy: ', lgbm.score(X_valid, y_valid))\n",
    "print('roc_auccuracy: ', roc_auc_score(y_valid, lgbm.predict_proba(X_valid)[:, 1]))"
   ]
  },
  {
   "cell_type": "code",
   "execution_count": 88,
   "metadata": {},
   "outputs": [
    {
     "name": "stdout",
     "output_type": "stream",
     "text": [
      "accuracy:  0.933938370620515\n",
      "roc_auccuracy:  0.6264135585757817\n"
     ]
    }
   ],
   "source": [
    "# 最佳參數建立模型(參考 找出最佳模型參數.ipynb)\n",
    "\n",
    "best_lgbm =  LGBMClassifier(boosting_type = 'goss', learning_rate = 0.05, max_depth = 50, min_split_gain = 0.05, num_leaves = 10, subsample = 0.5)\n",
    "best_lgbm.fit(X_train, y_train)\n",
    "\n",
    "print('accuracy: ', best_lgbm.score(X_valid, y_valid))\n",
    "print('roc_auccuracy: ', roc_auc_score(y_valid, best_lgbm.predict_proba(X_valid)[:, 1]))"
   ]
  },
  {
   "cell_type": "code",
   "execution_count": 89,
   "metadata": {},
   "outputs": [
    {
     "data": {
      "text/plain": [
       "<AxesSubplot:>"
      ]
     },
     "execution_count": 89,
     "metadata": {},
     "output_type": "execute_result"
    },
    {
     "data": {
      "image/png": "[encoded data removed]",
      "text/plain": [
       "<Figure size 432x288 with 1 Axes>"
      ]
     },
     "metadata": {
      "needs_background": "light"
     },
     "output_type": "display_data"
    }
   ],
   "source": [
    "# 前十名特徵\n",
    "features = pd.Series(best_lgbm.feature_importances_, index = X_train.columns).sort_values()\n",
    "features[-9:].plot.barh()"
   ]
  },
  {
   "cell_type": "code",
   "execution_count": 90,
   "metadata": {},
   "outputs": [
    {
     "name": "stdout",
     "output_type": "stream",
     "text": [
      "[0.18412563 0.03695853 0.03963696 ... 0.05788233 0.07053116 0.04375424]\n"
     ]
    }
   ],
   "source": [
    "# 預測\n",
    "predict_proba = best_lgbm.predict_proba(pre_test)\n",
    "print(predict_proba[:, 1])"
   ]
  },
  {
   "cell_type": "markdown",
   "metadata": {},
   "source": [
    "## 選擇最佳模型"
   ]
  },
  {
   "cell_type": "code",
   "execution_count": 91,
   "metadata": {},
   "outputs": [],
   "source": [
    "# 沒調過任何參數\n",
    "auc_lg = roc_auc_score(y_valid, lg.predict_proba(X_valid)[:,1])\n",
    "auc_rf =  roc_auc_score(y_valid, rf.predict_proba(X_valid)[:,1])\n",
    "auc_xgc = roc_auc_score(y_valid, xgc.predict_proba(X_valid)[:,1])\n",
    "auc_lgbm = roc_auc_score(y_valid, lgbm.predict_proba(X_valid)[:,1])"
   ]
  },
  {
   "cell_type": "code",
   "execution_count": 92,
   "metadata": {},
   "outputs": [
    {
     "data": {
      "text/html": [
       "<div>\n",
       "<style scoped>\n",
       "    .dataframe tbody tr th:only-of-type {\n",
       "        vertical-align: middle;\n",
       "    }\n",
       "\n",
       "    .dataframe tbody tr th {\n",
       "        vertical-align: top;\n",
       "    }\n",
       "\n",
       "    .dataframe thead th {\n",
       "        text-align: right;\n",
       "    }\n",
       "</style>\n",
       "<table border=\"1\" class=\"dataframe\">\n",
       "  <thead>\n",
       "    <tr style=\"text-align: right;\">\n",
       "      <th></th>\n",
       "      <th>model</th>\n",
       "      <th>auc</th>\n",
       "    </tr>\n",
       "  </thead>\n",
       "  <tbody>\n",
       "    <tr>\n",
       "      <th>0</th>\n",
       "      <td>LogisticRegression</td>\n",
       "      <td>0.629195</td>\n",
       "    </tr>\n",
       "    <tr>\n",
       "      <th>3</th>\n",
       "      <td>LightGBM</td>\n",
       "      <td>0.603576</td>\n",
       "    </tr>\n",
       "    <tr>\n",
       "      <th>1</th>\n",
       "      <td>RandomForest</td>\n",
       "      <td>0.580038</td>\n",
       "    </tr>\n",
       "    <tr>\n",
       "      <th>2</th>\n",
       "      <td>XGBoost</td>\n",
       "      <td>0.565893</td>\n",
       "    </tr>\n",
       "  </tbody>\n",
       "</table>\n",
       "</div>"
      ],
      "text/plain": [
       "                model       auc\n",
       "0  LogisticRegression  0.629195\n",
       "3            LightGBM  0.603576\n",
       "1        RandomForest  0.580038\n",
       "2             XGBoost  0.565893"
      ]
     },
     "execution_count": 92,
     "metadata": {},
     "output_type": "execute_result"
    }
   ],
   "source": [
    "# 比較模型的準確率\n",
    "scores = pd.DataFrame({ \"model\":[\"LogisticRegression\",\"RandomForest\",\"XGBoost\", \"LightGBM\"],\n",
    "                        \"auc\":[auc_lg, auc_rf, auc_xgc, auc_lgbm]})\n",
    "\n",
    "scores.sort_values(by=\"auc\", ascending = False)"
   ]
  },
  {
   "cell_type": "code",
   "execution_count": 93,
   "metadata": {},
   "outputs": [],
   "source": [
    "# 調過最佳參數\n",
    "best_auc_lg = roc_auc_score(y_valid, best_lg.predict_proba(X_valid)[:,1])\n",
    "best_auc_rf =  roc_auc_score(y_valid, best_rf.predict_proba(X_valid)[:,1])\n",
    "best_auc_xgc = roc_auc_score(y_valid, best_xgc.predict_proba(X_valid)[:,1])\n",
    "best_auc_lgbm = roc_auc_score(y_valid, best_lgbm.predict_proba(X_valid)[:,1])"
   ]
  },
  {
   "cell_type": "code",
   "execution_count": 94,
   "metadata": {},
   "outputs": [
    {
     "data": {
      "text/html": [
       "<div>\n",
       "<style scoped>\n",
       "    .dataframe tbody tr th:only-of-type {\n",
       "        vertical-align: middle;\n",
       "    }\n",
       "\n",
       "    .dataframe tbody tr th {\n",
       "        vertical-align: top;\n",
       "    }\n",
       "\n",
       "    .dataframe thead th {\n",
       "        text-align: right;\n",
       "    }\n",
       "</style>\n",
       "<table border=\"1\" class=\"dataframe\">\n",
       "  <thead>\n",
       "    <tr style=\"text-align: right;\">\n",
       "      <th></th>\n",
       "      <th>model</th>\n",
       "      <th>auc</th>\n",
       "    </tr>\n",
       "  </thead>\n",
       "  <tbody>\n",
       "    <tr>\n",
       "      <th>2</th>\n",
       "      <td>XGBoost</td>\n",
       "      <td>0.635106</td>\n",
       "    </tr>\n",
       "    <tr>\n",
       "      <th>0</th>\n",
       "      <td>LogisticRegression</td>\n",
       "      <td>0.631018</td>\n",
       "    </tr>\n",
       "    <tr>\n",
       "      <th>3</th>\n",
       "      <td>LightGBM</td>\n",
       "      <td>0.626414</td>\n",
       "    </tr>\n",
       "    <tr>\n",
       "      <th>1</th>\n",
       "      <td>RandomForest</td>\n",
       "      <td>0.625070</td>\n",
       "    </tr>\n",
       "  </tbody>\n",
       "</table>\n",
       "</div>"
      ],
      "text/plain": [
       "                model       auc\n",
       "2             XGBoost  0.635106\n",
       "0  LogisticRegression  0.631018\n",
       "3            LightGBM  0.626414\n",
       "1        RandomForest  0.625070"
      ]
     },
     "execution_count": 94,
     "metadata": {},
     "output_type": "execute_result"
    }
   ],
   "source": [
    "# 比較模型的準確率\n",
    "scores = pd.DataFrame({ \"model\":[\"LogisticRegression\",\"RandomForest\",\"XGBoost\", \"LightGBM\"],\n",
    "                        \"auc\":[best_auc_lg, best_auc_rf, best_auc_xgc, best_auc_lgbm]})\n",
    "\n",
    "scores.sort_values(by=\"auc\", ascending = False)"
   ]
  },
  {
   "cell_type": "code",
   "execution_count": 96,
   "metadata": {},
   "outputs": [],
   "source": [
    "# 儲存最佳模型預測結果\n",
    "list1 = []\n",
    "for i in xgc_predict_proba[:, 1]:\n",
    "    list1.append(i)\n",
    "xgc_prob = pd.DataFrame({'prob':list1})\n",
    "xgc_prob.to_csv('result.csv', index = False)"
   ]
  },
  {
   "cell_type": "markdown",
   "metadata": {},
   "source": [
    "## 參考資料\n",
    "\n",
    "1.資料集\n",
    "\n",
    "官方: https://tianchi.aliyun.com/competition/entrance/231576/information\n",
    "\n",
    "2.用戶的復購預測\n",
    "\n",
    "https://www.heywhale.com/mw/project/6044a21f6b48c2001529f1b5/content\n"
   ]
  }
 ],
 "metadata": {
  "interpreter": {
   "hash": "0203f105219770c4dd1fa1b751d45f21997504114bad38bba652cdc2d097753a"
  },
  "kernelspec": {
   "display_name": "Python 3.9.7 ('base')",
   "language": "python",
   "name": "python3"
  },
  "language_info": {
   "codemirror_mode": {
    "name": "ipython",
    "version": 3
   },
   "file_extension": ".py",
   "mimetype": "text/x-python",
   "name": "python",
   "nbconvert_exporter": "python",
   "pygments_lexer": "ipython3",
   "version": "3.9.7"
  },
  "orig_nbformat": 4
 },
 "nbformat": 4,
 "nbformat_minor": 2
}
