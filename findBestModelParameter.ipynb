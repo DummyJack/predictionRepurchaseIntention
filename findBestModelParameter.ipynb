{
  "cells": [
    {
      "cell_type": "code",
      "execution_count": 23,
      "metadata": {
        "id": "jrZ3aftdx3WF"
      },
      "outputs": [],
      "source": [
        "import pandas as pd\n",
        "import numpy as np\n",
        "\n",
        "import warnings\n",
        "warnings.filterwarnings(\"ignore\")"
      ]
    },
    {
      "cell_type": "code",
      "execution_count": 24,
      "metadata": {
        "id": "xaZ0Ev6gQ5SL"
      },
      "outputs": [],
      "source": [
        "new_data = pd.read_csv('./dataset/features.csv')"
      ]
    },
    {
      "cell_type": "markdown",
      "metadata": {
        "id": "iyhIUaSiQ5SL"
      },
      "source": [
        "##### 預處理"
      ]
    },
    {
      "cell_type": "code",
      "execution_count": 25,
      "metadata": {
        "colab": {
          "base_uri": "https://localhost:8080/"
        },
        "id": "LCyVzSjXQ5SL",
        "outputId": "280d3889-c403-411a-b289-cb31095fef3e"
      },
      "outputs": [
        {
          "name": "stdout",
          "output_type": "stream",
          "text": [
            "<class 'pandas.core.frame.DataFrame'>\n",
            "RangeIndex: 47511 entries, 0 to 47510\n",
            "Data columns (total 14 columns):\n",
            " #   Column           Non-Null Count  Dtype  \n",
            "---  ------           --------------  -----  \n",
            " 0   user_id          47511 non-null  int32  \n",
            " 1   merchant_id      47511 non-null  int16  \n",
            " 2   label            23687 non-null  float32\n",
            " 3   data             47511 non-null  object \n",
            " 4   age_range        47511 non-null  float32\n",
            " 5   gender           47511 non-null  float32\n",
            " 6   uniq_item_id     47511 non-null  int16  \n",
            " 7   total_cat_id     47511 non-null  int8   \n",
            " 8   total_time_temp  47511 non-null  int8   \n",
            " 9   clicks           47511 non-null  int16  \n",
            " 10  shopping_cart    47511 non-null  int8   \n",
            " 11  purchases        47511 non-null  int8   \n",
            " 12  favourites       47511 non-null  int8   \n",
            " 13  purchases_ctr    47511 non-null  float32\n",
            "dtypes: float32(4), int16(3), int32(1), int8(5), object(1)\n",
            "memory usage: 1.8+ MB\n"
          ]
        }
      ],
      "source": [
        "# 壓縮資料\n",
        "fcols = new_data.select_dtypes('float').columns\n",
        "icols = new_data.select_dtypes('integer').columns\n",
        "new_data[fcols] = new_data[fcols].apply(pd.to_numeric, downcast='float')\n",
        "new_data[icols] = new_data[icols].apply(pd.to_numeric, downcast='integer')\n",
        "\n",
        "new_data.info()"
      ]
    },
    {
      "cell_type": "code",
      "execution_count": 26,
      "metadata": {},
      "outputs": [],
      "source": [
        "train = new_data[new_data[\"data\"] == \"train\"]\n",
        "test = new_data[new_data[\"data\"] == \"test\"].drop([\"data\", \"label\"], axis = 1)"
      ]
    },
    {
      "cell_type": "code",
      "execution_count": 27,
      "metadata": {
        "id": "JBDZIb1IQ5SM"
      },
      "outputs": [],
      "source": [
        "X, y = train.drop([\"user_id\", \"merchant_id\", \"label\", 'data'], axis = 1), train[\"label\"]\n",
        "\n",
        "# 無限值替換成0\n",
        "X.replace([np.inf, -np.inf], 0, inplace = True)"
      ]
    },
    {
      "cell_type": "code",
      "execution_count": 28,
      "metadata": {
        "id": "wZn6ifwEQ5SM"
      },
      "outputs": [],
      "source": [
        "from sklearn.model_selection import train_test_split\n",
        "\n",
        "X_train, X_valid, y_train, y_valid = train_test_split(X, y, test_size = 0.2)"
      ]
    },
    {
      "cell_type": "markdown",
      "metadata": {
        "id": "MUTKNSE0y58v"
      },
      "source": [
        "### 找出最佳的模型參數"
      ]
    },
    {
      "cell_type": "code",
      "execution_count": 30,
      "metadata": {
        "id": "G1g-8w_vQ5ST"
      },
      "outputs": [],
      "source": [
        "from sklearn.metrics import roc_auc_score\n",
        "from sklearn.model_selection import GridSearchCV"
      ]
    },
    {
      "cell_type": "markdown",
      "metadata": {
        "id": "31MoZt2gydRv"
      },
      "source": [
        "##### 隨機森林(RandomForest)"
      ]
    },
    {
      "cell_type": "code",
      "execution_count": 31,
      "metadata": {
        "id": "z3887BMVyl-F"
      },
      "outputs": [],
      "source": [
        "from sklearn.ensemble import RandomForestClassifier"
      ]
    },
    {
      "cell_type": "code",
      "execution_count": 32,
      "metadata": {
        "id": "m_rWmGsEzcMM"
      },
      "outputs": [],
      "source": [
        "# 調整參數\n",
        "\n",
        "rf_1 = RandomForestClassifier()\n",
        "\n",
        "# n_estimators:決策數的各數, max_depath:樹的最大深度, min_samples_split:根據屬性劃分節點時，每個劃分最少的樣本數, min_samples_leaf:葉子節點最少的樣本數數\n",
        "params = { \"n_estimators\":[50, 100],  \n",
        "          \"max_depth\":[1, 5, 10],\n",
        "          \"min_samples_split\":[1, 2, 100],\n",
        "          \"min_samples_leaf\":[1, 10, 50]\n",
        "         }\n",
        "\n",
        "# 窮舉搜索\n",
        "grid_search_1 = GridSearchCV(rf_1, params, cv = 3, scoring = \"roc_auc\") # estimator：機械學習算法/param_grid：優化的參數和取值/cv：交叉驗證的折數/scoring：準確度的判斷標準"
      ]
    },
    {
      "cell_type": "code",
      "execution_count": 33,
      "metadata": {
        "colab": {
          "base_uri": "https://localhost:8080/"
        },
        "id": "-pRuNkotzqJc",
        "outputId": "8726c909-f2bf-4f75-adda-12b08e134d65"
      },
      "outputs": [
        {
          "data": {
            "text/plain": [
              "GridSearchCV(cv=3, estimator=RandomForestClassifier(),\n",
              "             param_grid={'max_depth': [1, 5, 10],\n",
              "                         'min_samples_leaf': [1, 10, 50],\n",
              "                         'min_samples_split': [1, 2, 100],\n",
              "                         'n_estimators': [50, 100]},\n",
              "             scoring='roc_auc')"
            ]
          },
          "execution_count": 33,
          "metadata": {},
          "output_type": "execute_result"
        }
      ],
      "source": [
        "grid_search_1.fit(X_train, y_train)"
      ]
    },
    {
      "cell_type": "code",
      "execution_count": 34,
      "metadata": {
        "colab": {
          "base_uri": "https://localhost:8080/",
          "height": 104
        },
        "id": "nVPffzG6zvU_",
        "outputId": "286c21c8-6de3-4d1f-d326-52d8cd3980ff"
      },
      "outputs": [
        {
          "data": {
            "text/plain": [
              "{'max_depth': 5,\n",
              " 'min_samples_leaf': 50,\n",
              " 'min_samples_split': 2,\n",
              " 'n_estimators': 50}"
            ]
          },
          "metadata": {},
          "output_type": "display_data"
        },
        {
          "data": {
            "text/plain": [
              "0.6325991680535511"
            ]
          },
          "metadata": {},
          "output_type": "display_data"
        }
      ],
      "source": [
        "display(grid_search_1.best_params_)\n",
        "display(grid_search_1.best_score_)"
      ]
    },
    {
      "cell_type": "markdown",
      "metadata": {
        "id": "pxmkz9kcQ5SP"
      },
      "source": [
        "##### 邏輯迴歸(LogisticRegression)"
      ]
    },
    {
      "cell_type": "code",
      "execution_count": 35,
      "metadata": {
        "id": "-3apnE8oQ5SQ"
      },
      "outputs": [],
      "source": [
        "from sklearn.linear_model import LogisticRegression"
      ]
    },
    {
      "cell_type": "code",
      "execution_count": 36,
      "metadata": {
        "id": "oe04kpzHQ5SW"
      },
      "outputs": [],
      "source": [
        "# 調整參數\n",
        "\n",
        "clf_1 = LogisticRegression()\n",
        "\n",
        "# slover: 優化算法選擇參數, C:正規化係數 λ 的倒數, penalty:懲罰項\n",
        "params = {  \"solver\":[\"liblinear\", \"saga\", 'lbfgs', 'newton-cg'],\n",
        "        \"C\":[0.01, 0.1, 1],\n",
        "        \"penalty\":[\"l1\", \"l2\"]\n",
        "        }\n",
        "\n",
        "grid_search_2 = GridSearchCV(clf_1, params, cv = 5, scoring = \"roc_auc\")"
      ]
    },
    {
      "cell_type": "code",
      "execution_count": 37,
      "metadata": {
        "colab": {
          "base_uri": "https://localhost:8080/"
        },
        "id": "cPbypXBNQ5SW",
        "outputId": "dab0bde3-6539-41ff-e1e5-c80a9a509187"
      },
      "outputs": [
        {
          "data": {
            "text/plain": [
              "GridSearchCV(cv=5, estimator=LogisticRegression(),\n",
              "             param_grid={'C': [0.01, 0.1, 1], 'penalty': ['l1', 'l2'],\n",
              "                         'solver': ['liblinear', 'saga', 'lbfgs', 'newton-cg']},\n",
              "             scoring='roc_auc')"
            ]
          },
          "execution_count": 37,
          "metadata": {},
          "output_type": "execute_result"
        }
      ],
      "source": [
        "grid_search_2.fit(X_train, y_train)"
      ]
    },
    {
      "cell_type": "code",
      "execution_count": 38,
      "metadata": {
        "colab": {
          "base_uri": "https://localhost:8080/",
          "height": 52
        },
        "id": "myF7sSeeQ5SW",
        "outputId": "628f7074-aae5-4a6c-fef1-65efae856870"
      },
      "outputs": [
        {
          "data": {
            "text/plain": [
              "{'C': 0.1, 'penalty': 'l1', 'solver': 'liblinear'}"
            ]
          },
          "metadata": {},
          "output_type": "display_data"
        },
        {
          "data": {
            "text/plain": [
              "0.6246054585918518"
            ]
          },
          "metadata": {},
          "output_type": "display_data"
        }
      ],
      "source": [
        "display(grid_search_2.best_params_)\n",
        "display(grid_search_2.best_score_)"
      ]
    },
    {
      "cell_type": "markdown",
      "metadata": {
        "id": "NWQ_AwgP3wha"
      },
      "source": [
        "##### XGBoost"
      ]
    },
    {
      "cell_type": "code",
      "execution_count": 39,
      "metadata": {
        "id": "ZftDQ43533WO"
      },
      "outputs": [],
      "source": [
        "from xgboost import XGBClassifier"
      ]
    },
    {
      "cell_type": "code",
      "execution_count": 40,
      "metadata": {
        "id": "CqwXUTAV5JY5"
      },
      "outputs": [],
      "source": [
        "# 調整參數\n",
        "\n",
        "xgc_1 = XGBClassifier()\n",
        "\n",
        "params = {\"eta\":[0.1, 0.2],\n",
        "          \"gamma\":[1, 5, 50],\n",
        "          \"min_child_weight\":[10, 100, 500],\n",
        "          \"max_depth\":[1, 5, 50],\n",
        "          \"subsample\":[0.5],\n",
        "          \"objective\":[\"binary:logistic\"],\n",
        "          \"eval_metric\":  [\"auc\"]\n",
        "         }\n",
        "\n",
        "grid_search_3 = GridSearchCV(xgc_1, params,cv = 3,scoring = \"roc_auc\")"
      ]
    },
    {
      "cell_type": "code",
      "execution_count": 41,
      "metadata": {
        "colab": {
          "base_uri": "https://localhost:8080/"
        },
        "id": "CWIX14VF4BUW",
        "outputId": "0554459a-c0f4-4742-f934-6e4e097d6ccb"
      },
      "outputs": [
        {
          "data": {
            "text/plain": [
              "GridSearchCV(cv=3,\n",
              "             estimator=XGBClassifier(base_score=None, booster=None,\n",
              "                                     callbacks=None, colsample_bylevel=None,\n",
              "                                     colsample_bynode=None,\n",
              "                                     colsample_bytree=None,\n",
              "                                     early_stopping_rounds=None,\n",
              "                                     enable_categorical=False, eval_metric=None,\n",
              "                                     gamma=None, gpu_id=None, grow_policy=None,\n",
              "                                     importance_type=None,\n",
              "                                     interaction_constraints=None,\n",
              "                                     learning_rate=None, max_bin=None,\n",
              "                                     max_ca...\n",
              "                                     max_leaves=None, min_child_weight=None,\n",
              "                                     missing=nan, monotone_constraints=None,\n",
              "                                     n_estimators=100, n_jobs=None,\n",
              "                                     num_parallel_tree=None, predictor=None,\n",
              "                                     random_state=None, reg_alpha=None,\n",
              "                                     reg_lambda=None, ...),\n",
              "             param_grid={'eta': [0.1, 0.2], 'eval_metric': ['auc'],\n",
              "                         'gamma': [1, 5, 50], 'max_depth': [1, 5, 50],\n",
              "                         'min_child_weight': [10, 100, 500],\n",
              "                         'objective': ['binary:logistic'], 'subsample': [0.5]},\n",
              "             scoring='roc_auc')"
            ]
          },
          "execution_count": 41,
          "metadata": {},
          "output_type": "execute_result"
        }
      ],
      "source": [
        "grid_search_3.fit(X_train, y_train)"
      ]
    },
    {
      "cell_type": "code",
      "execution_count": 42,
      "metadata": {
        "colab": {
          "base_uri": "https://localhost:8080/",
          "height": 156
        },
        "id": "9e7Q1mzo4Baw",
        "outputId": "f855cc2f-11a2-4e66-90f2-cb5fbc68d5c9"
      },
      "outputs": [
        {
          "data": {
            "text/plain": [
              "{'eta': 0.1,\n",
              " 'eval_metric': 'auc',\n",
              " 'gamma': 1,\n",
              " 'max_depth': 1,\n",
              " 'min_child_weight': 10,\n",
              " 'objective': 'binary:logistic',\n",
              " 'subsample': 0.5}"
            ]
          },
          "metadata": {},
          "output_type": "display_data"
        },
        {
          "data": {
            "text/plain": [
              "0.6326085133804678"
            ]
          },
          "metadata": {},
          "output_type": "display_data"
        }
      ],
      "source": [
        "display(grid_search_3.best_params_)\n",
        "display(grid_search_3.best_score_)"
      ]
    },
    {
      "cell_type": "markdown",
      "metadata": {
        "id": "aVFX_JUR3wj3"
      },
      "source": [
        "##### LightGBM"
      ]
    },
    {
      "cell_type": "code",
      "execution_count": 43,
      "metadata": {
        "id": "wpzKDF9h39Fe"
      },
      "outputs": [],
      "source": [
        "from lightgbm import LGBMClassifier"
      ]
    },
    {
      "cell_type": "code",
      "execution_count": 44,
      "metadata": {
        "id": "K4_M1Iqb5JDK"
      },
      "outputs": [],
      "source": [
        "lgbm_1 = LGBMClassifier()\n",
        "params = {    \"boosting_type\":[\"gbdt\", \"dart\", \"goss\"],\n",
        "          \"learning_rate\":[0.01, 0.05],\n",
        "          \"n_estimators\":[100, 500],\n",
        "          \"num_leaves\":[10, 30, 100],\n",
        "          \"max_depth\":[50, 60, 70],\n",
        "          \"subsample\":[0.5],\n",
        "          \"min_split_gain\":[0.05]\n",
        "         }\n",
        "\n",
        "grid_search_4 = GridSearchCV(lgbm_1,params,cv = 3,scoring = \"roc_auc\")"
      ]
    },
    {
      "cell_type": "code",
      "execution_count": 45,
      "metadata": {
        "id": "52DKpnuC4ThQ"
      },
      "outputs": [
        {
          "data": {
            "text/plain": [
              "GridSearchCV(cv=3, estimator=LGBMClassifier(),\n",
              "             param_grid={'boosting_type': ['gbdt', 'dart', 'goss'],\n",
              "                         'learning_rate': [0.01, 0.05],\n",
              "                         'max_depth': [50, 60, 70], 'min_split_gain': [0.05],\n",
              "                         'n_estimators': [100, 500],\n",
              "                         'num_leaves': [10, 30, 100], 'subsample': [0.5]},\n",
              "             scoring='roc_auc')"
            ]
          },
          "execution_count": 45,
          "metadata": {},
          "output_type": "execute_result"
        }
      ],
      "source": [
        "grid_search_4.fit(X_train, y_train)"
      ]
    },
    {
      "cell_type": "code",
      "execution_count": 46,
      "metadata": {
        "id": "PEB4H4Er4Ugj"
      },
      "outputs": [
        {
          "data": {
            "text/plain": [
              "{'boosting_type': 'goss',\n",
              " 'learning_rate': 0.05,\n",
              " 'max_depth': 50,\n",
              " 'min_split_gain': 0.05,\n",
              " 'n_estimators': 100,\n",
              " 'num_leaves': 10,\n",
              " 'subsample': 0.5}"
            ]
          },
          "metadata": {},
          "output_type": "display_data"
        },
        {
          "data": {
            "text/plain": [
              "0.6279458491634625"
            ]
          },
          "metadata": {},
          "output_type": "display_data"
        }
      ],
      "source": [
        "display(grid_search_4.best_params_)\n",
        "display(grid_search_4.best_score_)"
      ]
    },
    {
      "cell_type": "markdown",
      "metadata": {},
      "source": [
        "### 參考資料\n",
        "\n",
        "1.GridSearchCV\n",
        " \n",
        "https://www.cnblogs.com/wj-1314/p/10422159.html\n",
        "\n",
        "2.RandomForest 參數\n",
        "\n",
        "https://blog.csdn.net/qq_16633405/article/details/61200502\n",
        "\n",
        "3.LogisticRegression 參數\n",
        "\n",
        "https://blog.csdn.net/jark_/article/details/78342644\n",
        "\n",
        "4.LGBMClassifier 參數\n",
        "\n",
        "https://blog.csdn.net/qq_41185868/article/details/109252743\n",
        "\n",
        "5.XGBoost 參數\n",
        "\n",
        "https://blog.csdn.net/han_xiaoyang/article/details/52665396"
      ]
    }
  ],
  "metadata": {
    "accelerator": "GPU",
    "colab": {
      "name": "1.ipynb",
      "provenance": []
    },
    "interpreter": {
      "hash": "0203f105219770c4dd1fa1b751d45f21997504114bad38bba652cdc2d097753a"
    },
    "kernelspec": {
      "display_name": "Python 3.9.7 ('base')",
      "language": "python",
      "name": "python3"
    },
    "language_info": {
      "codemirror_mode": {
        "name": "ipython",
        "version": 3
      },
      "file_extension": ".py",
      "mimetype": "text/x-python",
      "name": "python",
      "nbconvert_exporter": "python",
      "pygments_lexer": "ipython3",
      "version": "3.9.7"
    },
    "orig_nbformat": 4
  },
  "nbformat": 4,
  "nbformat_minor": 0
}
